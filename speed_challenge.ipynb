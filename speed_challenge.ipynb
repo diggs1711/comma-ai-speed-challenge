{
  "nbformat": 4,
  "nbformat_minor": 0,
  "metadata": {
    "colab": {
      "name": "speed_challenge.ipynb",
      "provenance": [],
      "collapsed_sections": [],
      "machine_shape": "hm",
      "authorship_tag": "ABX9TyOA25Oi61dBed1bLzLOuIis",
      "include_colab_link": true
    },
    "kernelspec": {
      "name": "python3",
      "display_name": "Python 3"
    },
    "accelerator": "GPU"
  },
  "cells": [
    {
      "cell_type": "markdown",
      "metadata": {
        "id": "view-in-github",
        "colab_type": "text"
      },
      "source": [
        "<a href=\"https://colab.research.google.com/github/diggs1711/comma-ai-speed-challenge/blob/master/speed_challenge.ipynb\" target=\"_parent\"><img src=\"https://colab.research.google.com/assets/colab-badge.svg\" alt=\"Open In Colab\"/></a>"
      ]
    },
    {
      "cell_type": "code",
      "metadata": {
        "id": "XwCp3FVfM4Au",
        "colab_type": "code",
        "outputId": "2425aa79-324c-4c9d-c9bc-56c498db4369",
        "colab": {
          "base_uri": "https://localhost:8080/",
          "height": 122
        }
      },
      "source": [
        "%matplotlib inline\n",
        "from cv2 import VideoCapture, namedWindow, WINDOW_AUTOSIZE, waitKey\n",
        "from google.colab.patches import cv2_imshow\n",
        "import numpy as np\n",
        "import pandas as pd\n",
        "from google.colab import drive\n",
        "drive.mount('/content/drive')"
      ],
      "execution_count": 1,
      "outputs": [
        {
          "output_type": "stream",
          "text": [
            "Go to this URL in a browser: https://accounts.google.com/o/oauth2/auth?client_id=947318989803-6bn6qk8qdgf4n4g3pfee6491hc0brc4i.apps.googleusercontent.com&redirect_uri=urn%3aietf%3awg%3aoauth%3a2.0%3aoob&response_type=code&scope=email%20https%3a%2f%2fwww.googleapis.com%2fauth%2fdocs.test%20https%3a%2f%2fwww.googleapis.com%2fauth%2fdrive%20https%3a%2f%2fwww.googleapis.com%2fauth%2fdrive.photos.readonly%20https%3a%2f%2fwww.googleapis.com%2fauth%2fpeopleapi.readonly\n",
            "\n",
            "Enter your authorization code:\n",
            "··········\n",
            "Mounted at /content/drive\n"
          ],
          "name": "stdout"
        }
      ]
    },
    {
      "cell_type": "code",
      "metadata": {
        "id": "LUrpshliPZUp",
        "colab_type": "code",
        "colab": {}
      },
      "source": [
        "from pathlib import Path\n",
        "drive_path = Path('/content/drive/My Drive/comma_ai_speed_challenge/speedchallenge-master/data/')"
      ],
      "execution_count": 0,
      "outputs": []
    },
    {
      "cell_type": "code",
      "metadata": {
        "id": "4TPxE9HBNmVc",
        "colab_type": "code",
        "colab": {}
      },
      "source": [
        "train_vals = np.array(pd.read_fwf(drive_path/'train.txt', header=None))"
      ],
      "execution_count": 0,
      "outputs": []
    },
    {
      "cell_type": "code",
      "metadata": {
        "id": "hDnl-8TSu9sO",
        "colab_type": "code",
        "colab": {
          "base_uri": "https://localhost:8080/",
          "height": 289
        },
        "outputId": "df2eb557-fde9-4ab5-f121-fc1450443b14"
      },
      "source": [
        "print(f\"mean {train_vals.mean()}\")\n",
        "print(f\"max {train_vals.max()}\")\n",
        "print(f\"std {train_vals.std()}\")\n",
        "print(f\"min {train_vals.min()}\")\n",
        "\n",
        "idx = int(len(train_vals) / 2)\n",
        "print()\n",
        "print(\"*** First half of video ****\")\n",
        "first_half = train_vals[:idx]\n",
        "print(f\"mean 1st {first_half.mean()}\")\n",
        "print(f\"max 1st {first_half.max()}\")\n",
        "print(f\"std 1st {first_half.std()}\")\n",
        "print(f\"min 1st {first_half.min()}\")\n",
        "\n",
        "print()\n",
        "print(\"*** Second half of video ****\")\n",
        "second_half = train_vals[idx:]\n",
        "print(f\"mean 2nd {second_half.mean()}\")\n",
        "print(f\"max 2nd {second_half.max()}\")\n",
        "print(f\"std 2nd {second_half.std()}\")\n",
        "print(f\"min 2nd {second_half.min()}\")"
      ],
      "execution_count": 39,
      "outputs": [
        {
          "output_type": "stream",
          "text": [
            "mean 12.183181660441177\n",
            "max 28.130404\n",
            "std 8.206561706745727\n",
            "min 0.0\n",
            "\n",
            "*** First half of video ****\n",
            "mean 1st 18.66717958362745\n",
            "max 1st 28.130404\n",
            "std 1st 5.883530076403356\n",
            "min 1st 0.0\n",
            "\n",
            "*** Second half of video ****\n",
            "mean 2nd 5.699183737254902\n",
            "max 2nd 14.890168\n",
            "std 2nd 3.9993656743963695\n",
            "min 2nd 0.0\n"
          ],
          "name": "stdout"
        }
      ]
    },
    {
      "cell_type": "code",
      "metadata": {
        "id": "ngHfnZosUbw8",
        "colab_type": "code",
        "colab": {}
      },
      "source": [
        "numberOfFrame = 20400\n",
        "fps = 20\n",
        "cropped_image_height = 100\n",
        "cropped_image_width = 440"
      ],
      "execution_count": 0,
      "outputs": []
    },
    {
      "cell_type": "code",
      "metadata": {
        "id": "cqZgeHnicgYu",
        "colab_type": "code",
        "outputId": "32cd7479-0766-48f8-9aca-b8c61e129b71",
        "colab": {
          "base_uri": "https://localhost:8080/",
          "height": 34
        }
      },
      "source": [
        "df.shape"
      ],
      "execution_count": 6,
      "outputs": [
        {
          "output_type": "execute_result",
          "data": {
            "text/plain": [
              "(20400, 44000)"
            ]
          },
          "metadata": {
            "tags": []
          },
          "execution_count": 6
        }
      ]
    },
    {
      "cell_type": "code",
      "metadata": {
        "id": "9P8sBQLXON8f",
        "colab_type": "code",
        "outputId": "eafe7378-d1bb-4df2-8ea8-98a4739482e3",
        "colab": {
          "base_uri": "https://localhost:8080/",
          "height": 34
        }
      },
      "source": [
        "cap = VideoCapture('/content/drive/My Drive/comma_ai_speed_challenge/speedchallenge-master/data/train.mp4')\n",
        "# driving containing 20400 frames. Video is shot at 20 fps.\n",
        "\n",
        "i = 0\n",
        "video_frames = np.array([])\n",
        "\n",
        "while i < numberOfFrame:\n",
        "  ret_val, frame = cap.read()\n",
        "  print(frame.shape)\n",
        "  break\n",
        "  cropped_image = frame[200:200+cropped_image_height,100:100+cropped_image_width, 2]\n",
        "  video_frames.append(np.array(cropped_image))\n",
        "  i = i + 1\n",
        "  if waitKey(1) == 27:\n",
        "    break;"
      ],
      "execution_count": 41,
      "outputs": [
        {
          "output_type": "stream",
          "text": [
            "(480, 640, 3)\n"
          ],
          "name": "stdout"
        }
      ]
    },
    {
      "cell_type": "code",
      "metadata": {
        "id": "RV7WpSgk2zql",
        "colab_type": "code",
        "colab": {}
      },
      "source": [
        "import math\n",
        "valid_idx =  math.floor(numberOfFrame * 0.8)\n",
        "\n",
        "X_train = video_frames[:valid_idx][..., np.newaxis]\n",
        "y_train = train_vals[:valid_idx]\n",
        "\n",
        "X_valid = video_frames[valid_idx:][..., np.newaxis]\n",
        "y_valid = train_vals[valid_idx:]"
      ],
      "execution_count": 0,
      "outputs": []
    },
    {
      "cell_type": "code",
      "metadata": {
        "id": "4Ssp7f9ZB9V3",
        "colab_type": "code",
        "colab": {
          "base_uri": "https://localhost:8080/",
          "height": 34
        },
        "outputId": "a4fca6af-2188-47d9-d19b-ef0bf865485c"
      },
      "source": [
        "X_train.shape"
      ],
      "execution_count": 26,
      "outputs": [
        {
          "output_type": "execute_result",
          "data": {
            "text/plain": [
              "(16320, 100, 440, 1)"
            ]
          },
          "metadata": {
            "tags": []
          },
          "execution_count": 26
        }
      ]
    },
    {
      "cell_type": "code",
      "metadata": {
        "id": "RiHyP_mZAYkR",
        "colab_type": "code",
        "colab": {}
      },
      "source": [
        "X_train = X_train / 255\n",
        "X_valid = X_valid / 255"
      ],
      "execution_count": 0,
      "outputs": []
    },
    {
      "cell_type": "code",
      "metadata": {
        "id": "WoQ0Nff63EI-",
        "colab_type": "code",
        "colab": {
          "base_uri": "https://localhost:8080/",
          "height": 1000
        },
        "outputId": "892ba6a9-13c1-4e2e-f132-4a615ee15d84"
      },
      "source": [
        "from keras.layers import Dense, Dropout, Flatten, Activation\n",
        "from keras.layers import Conv2D\n",
        "from keras.models import Sequential\n",
        "import keras\n",
        "\n",
        "model=Sequential()\n",
        "model.add(Conv2D(32, (3, 3),\n",
        "                 strides=2,\n",
        "                 padding='same',\n",
        "                 input_shape=X_train.shape[1:]))\n",
        "model.add(Activation('relu'))\n",
        "model.add(Conv2D(32, 3,3))\n",
        "model.add(Flatten())\n",
        "model.add(Dense(16))\n",
        "model.add(Dense(1))\n",
        "\n",
        "model.compile(loss='mse', optimizer=keras.optimizers.Adam(), metrics=['mse'])\n",
        "\n",
        "model.fit(\n",
        "    X_train,\n",
        "    y_train,\n",
        "    batch_size=16,\n",
        "    epochs=100, \n",
        "    validation_data=(X_valid, y_valid),\n",
        "    shuffle=False)"
      ],
      "execution_count": 31,
      "outputs": [
        {
          "output_type": "stream",
          "text": [
            "Using TensorFlow backend.\n",
            "/usr/local/lib/python3.6/dist-packages/ipykernel_launcher.py:12: UserWarning: Update your `Conv2D` call to the Keras 2 API: `Conv2D(32, (3, 3))`\n",
            "  if sys.path[0] == '':\n"
          ],
          "name": "stderr"
        },
        {
          "output_type": "stream",
          "text": [
            "Train on 16320 samples, validate on 4080 samples\n",
            "Epoch 1/100\n",
            "16320/16320 [==============================] - 18s 1ms/step - loss: 13.2238 - mse: 13.2238 - val_loss: 46.8985 - val_mse: 46.8985\n",
            "Epoch 2/100\n",
            "16320/16320 [==============================] - 12s 727us/step - loss: 5.0269 - mse: 5.0269 - val_loss: 39.8841 - val_mse: 39.8841\n",
            "Epoch 3/100\n",
            "16320/16320 [==============================] - 12s 730us/step - loss: 4.8164 - mse: 4.8163 - val_loss: 53.4492 - val_mse: 53.4492\n",
            "Epoch 4/100\n",
            "16320/16320 [==============================] - 12s 734us/step - loss: 4.3588 - mse: 4.3588 - val_loss: 54.2479 - val_mse: 54.2479\n",
            "Epoch 5/100\n",
            "16320/16320 [==============================] - 12s 729us/step - loss: 4.5917 - mse: 4.5917 - val_loss: 13.6476 - val_mse: 13.6476\n",
            "Epoch 6/100\n",
            "16320/16320 [==============================] - 12s 728us/step - loss: 6.2395 - mse: 6.2395 - val_loss: 16.7369 - val_mse: 16.7369\n",
            "Epoch 7/100\n",
            "16320/16320 [==============================] - 12s 725us/step - loss: 6.0282 - mse: 6.0282 - val_loss: 13.8268 - val_mse: 13.8267\n",
            "Epoch 8/100\n",
            "16320/16320 [==============================] - 12s 726us/step - loss: 6.8456 - mse: 6.8456 - val_loss: 26.4142 - val_mse: 26.4142\n",
            "Epoch 9/100\n",
            "16320/16320 [==============================] - 12s 724us/step - loss: 6.2529 - mse: 6.2529 - val_loss: 85.1495 - val_mse: 85.1495\n",
            "Epoch 10/100\n",
            "16320/16320 [==============================] - 12s 724us/step - loss: 4.2295 - mse: 4.2295 - val_loss: 41.8455 - val_mse: 41.8455\n",
            "Epoch 11/100\n",
            "16320/16320 [==============================] - 12s 725us/step - loss: 4.4097 - mse: 4.4097 - val_loss: 13.3114 - val_mse: 13.3114\n",
            "Epoch 12/100\n",
            "16320/16320 [==============================] - 12s 722us/step - loss: 7.3954 - mse: 7.3954 - val_loss: 13.7497 - val_mse: 13.7497\n",
            "Epoch 13/100\n",
            "16320/16320 [==============================] - 12s 728us/step - loss: 6.4371 - mse: 6.4371 - val_loss: 24.0710 - val_mse: 24.0710\n",
            "Epoch 14/100\n",
            "16320/16320 [==============================] - 12s 747us/step - loss: 5.9638 - mse: 5.9638 - val_loss: 17.0000 - val_mse: 17.0000\n",
            "Epoch 15/100\n",
            "16320/16320 [==============================] - 12s 738us/step - loss: 6.8708 - mse: 6.8708 - val_loss: 19.8957 - val_mse: 19.8957\n",
            "Epoch 16/100\n",
            "16320/16320 [==============================] - 12s 731us/step - loss: 6.4948 - mse: 6.4948 - val_loss: 26.8604 - val_mse: 26.8604\n",
            "Epoch 17/100\n",
            "16320/16320 [==============================] - 12s 731us/step - loss: 5.5219 - mse: 5.5219 - val_loss: 33.9536 - val_mse: 33.9536\n",
            "Epoch 18/100\n",
            "16320/16320 [==============================] - 12s 733us/step - loss: 5.4151 - mse: 5.4151 - val_loss: 41.1295 - val_mse: 41.1295\n",
            "Epoch 19/100\n",
            "16320/16320 [==============================] - 12s 735us/step - loss: 5.4816 - mse: 5.4816 - val_loss: 30.8286 - val_mse: 30.8286\n",
            "Epoch 20/100\n",
            "16320/16320 [==============================] - 12s 734us/step - loss: 5.4630 - mse: 5.4630 - val_loss: 23.4021 - val_mse: 23.4021\n",
            "Epoch 21/100\n",
            "16320/16320 [==============================] - 12s 742us/step - loss: 7.7244 - mse: 7.7244 - val_loss: 33.9576 - val_mse: 33.9576\n",
            "Epoch 22/100\n",
            "16320/16320 [==============================] - 12s 739us/step - loss: 5.3784 - mse: 5.3784 - val_loss: 45.3693 - val_mse: 45.3693\n",
            "Epoch 23/100\n",
            "16320/16320 [==============================] - 12s 740us/step - loss: 3.7857 - mse: 3.7857 - val_loss: 27.9553 - val_mse: 27.9554\n",
            "Epoch 24/100\n",
            "16320/16320 [==============================] - 12s 737us/step - loss: 4.2354 - mse: 4.2354 - val_loss: 26.3161 - val_mse: 26.3161\n",
            "Epoch 25/100\n",
            "16320/16320 [==============================] - 12s 738us/step - loss: 4.8377 - mse: 4.8377 - val_loss: 58.6722 - val_mse: 58.6722\n",
            "Epoch 26/100\n",
            "16320/16320 [==============================] - 12s 740us/step - loss: 4.6432 - mse: 4.6432 - val_loss: 28.2717 - val_mse: 28.2717\n",
            "Epoch 27/100\n",
            "16320/16320 [==============================] - 12s 749us/step - loss: 6.0163 - mse: 6.0163 - val_loss: 29.7959 - val_mse: 29.7959\n",
            "Epoch 28/100\n",
            "16320/16320 [==============================] - 12s 741us/step - loss: 5.1902 - mse: 5.1902 - val_loss: 36.6052 - val_mse: 36.6052\n",
            "Epoch 29/100\n",
            "16320/16320 [==============================] - 12s 739us/step - loss: 6.8982 - mse: 6.8982 - val_loss: 29.6532 - val_mse: 29.6532\n",
            "Epoch 30/100\n",
            "16320/16320 [==============================] - 12s 738us/step - loss: 6.7315 - mse: 6.7315 - val_loss: 23.6154 - val_mse: 23.6154\n",
            "Epoch 31/100\n",
            "16320/16320 [==============================] - 12s 741us/step - loss: 7.6154 - mse: 7.6154 - val_loss: 36.7827 - val_mse: 36.7827\n",
            "Epoch 32/100\n",
            "16320/16320 [==============================] - 12s 742us/step - loss: 6.7417 - mse: 6.7417 - val_loss: 32.0063 - val_mse: 32.0063\n",
            "Epoch 33/100\n",
            "16320/16320 [==============================] - 12s 739us/step - loss: 6.7258 - mse: 6.7258 - val_loss: 40.1992 - val_mse: 40.1992\n",
            "Epoch 34/100\n",
            "16320/16320 [==============================] - 12s 743us/step - loss: 4.5620 - mse: 4.5620 - val_loss: 50.3358 - val_mse: 50.3358\n",
            "Epoch 35/100\n",
            "16320/16320 [==============================] - 12s 741us/step - loss: 3.4821 - mse: 3.4821 - val_loss: 46.3973 - val_mse: 46.3972\n",
            "Epoch 36/100\n",
            "16320/16320 [==============================] - 12s 739us/step - loss: 5.2076 - mse: 5.2076 - val_loss: 30.1938 - val_mse: 30.1938\n",
            "Epoch 37/100\n",
            "16320/16320 [==============================] - 12s 740us/step - loss: 5.6302 - mse: 5.6302 - val_loss: 24.4277 - val_mse: 24.4277\n",
            "Epoch 38/100\n",
            "16320/16320 [==============================] - 12s 740us/step - loss: 5.5578 - mse: 5.5577 - val_loss: 25.0408 - val_mse: 25.0408\n",
            "Epoch 39/100\n",
            "16320/16320 [==============================] - 12s 739us/step - loss: 4.0173 - mse: 4.0173 - val_loss: 41.2703 - val_mse: 41.2703\n",
            "Epoch 40/100\n",
            "16320/16320 [==============================] - 12s 764us/step - loss: 2.9532 - mse: 2.9532 - val_loss: 37.9827 - val_mse: 37.9827\n",
            "Epoch 41/100\n",
            "16320/16320 [==============================] - 12s 745us/step - loss: 3.9517 - mse: 3.9517 - val_loss: 41.1805 - val_mse: 41.1805\n",
            "Epoch 42/100\n",
            "16320/16320 [==============================] - 12s 738us/step - loss: 4.1563 - mse: 4.1563 - val_loss: 29.6759 - val_mse: 29.6759\n",
            "Epoch 43/100\n",
            "16320/16320 [==============================] - 12s 741us/step - loss: 4.1755 - mse: 4.1755 - val_loss: 28.1398 - val_mse: 28.1398\n",
            "Epoch 44/100\n",
            "16320/16320 [==============================] - 12s 738us/step - loss: 4.0814 - mse: 4.0814 - val_loss: 42.8492 - val_mse: 42.8492\n",
            "Epoch 45/100\n",
            "16320/16320 [==============================] - 12s 741us/step - loss: 3.9163 - mse: 3.9163 - val_loss: 28.9477 - val_mse: 28.9477\n",
            "Epoch 46/100\n",
            "16320/16320 [==============================] - 12s 741us/step - loss: 3.7117 - mse: 3.7117 - val_loss: 28.2735 - val_mse: 28.2735\n",
            "Epoch 47/100\n",
            "16320/16320 [==============================] - 12s 743us/step - loss: 3.9716 - mse: 3.9716 - val_loss: 31.3287 - val_mse: 31.3287\n",
            "Epoch 48/100\n",
            "16320/16320 [==============================] - 12s 742us/step - loss: 4.5781 - mse: 4.5781 - val_loss: 28.6603 - val_mse: 28.6603\n",
            "Epoch 49/100\n",
            "16320/16320 [==============================] - 12s 739us/step - loss: 3.5093 - mse: 3.5093 - val_loss: 37.6204 - val_mse: 37.6204\n",
            "Epoch 50/100\n",
            "16320/16320 [==============================] - 12s 742us/step - loss: 3.4350 - mse: 3.4350 - val_loss: 33.8267 - val_mse: 33.8267\n",
            "Epoch 51/100\n",
            "16320/16320 [==============================] - 12s 742us/step - loss: 3.8570 - mse: 3.8570 - val_loss: 38.1688 - val_mse: 38.1688\n",
            "Epoch 52/100\n",
            "16320/16320 [==============================] - 12s 747us/step - loss: 4.5693 - mse: 4.5693 - val_loss: 41.9854 - val_mse: 41.9854\n",
            "Epoch 53/100\n",
            "16320/16320 [==============================] - 12s 737us/step - loss: 5.7180 - mse: 5.7179 - val_loss: 40.0850 - val_mse: 40.0850\n",
            "Epoch 54/100\n",
            "16320/16320 [==============================] - 12s 744us/step - loss: 5.4634 - mse: 5.4634 - val_loss: 34.5676 - val_mse: 34.5676\n",
            "Epoch 55/100\n",
            "16320/16320 [==============================] - 12s 740us/step - loss: 5.3191 - mse: 5.3191 - val_loss: 36.0592 - val_mse: 36.0592\n",
            "Epoch 56/100\n",
            " 7936/16320 [=============>................] - ETA: 5s - loss: 5.1600 - mse: 5.1600"
          ],
          "name": "stdout"
        },
        {
          "output_type": "error",
          "ename": "KeyboardInterrupt",
          "evalue": "ignored",
          "traceback": [
            "\u001b[0;31m---------------------------------------------------------------------------\u001b[0m",
            "\u001b[0;31mKeyboardInterrupt\u001b[0m                         Traceback (most recent call last)",
            "\u001b[0;32m<ipython-input-31-74d6251d235f>\u001b[0m in \u001b[0;36m<module>\u001b[0;34m()\u001b[0m\n\u001b[1;32m     23\u001b[0m     \u001b[0mepochs\u001b[0m\u001b[0;34m=\u001b[0m\u001b[0;36m100\u001b[0m\u001b[0;34m,\u001b[0m\u001b[0;34m\u001b[0m\u001b[0;34m\u001b[0m\u001b[0m\n\u001b[1;32m     24\u001b[0m     \u001b[0mvalidation_data\u001b[0m\u001b[0;34m=\u001b[0m\u001b[0;34m(\u001b[0m\u001b[0mX_valid\u001b[0m\u001b[0;34m,\u001b[0m \u001b[0my_valid\u001b[0m\u001b[0;34m)\u001b[0m\u001b[0;34m,\u001b[0m\u001b[0;34m\u001b[0m\u001b[0;34m\u001b[0m\u001b[0m\n\u001b[0;32m---> 25\u001b[0;31m     shuffle=False)\n\u001b[0m",
            "\u001b[0;32m/usr/local/lib/python3.6/dist-packages/keras/engine/training.py\u001b[0m in \u001b[0;36mfit\u001b[0;34m(self, x, y, batch_size, epochs, verbose, callbacks, validation_split, validation_data, shuffle, class_weight, sample_weight, initial_epoch, steps_per_epoch, validation_steps, validation_freq, max_queue_size, workers, use_multiprocessing, **kwargs)\u001b[0m\n\u001b[1;32m   1237\u001b[0m                                         \u001b[0msteps_per_epoch\u001b[0m\u001b[0;34m=\u001b[0m\u001b[0msteps_per_epoch\u001b[0m\u001b[0;34m,\u001b[0m\u001b[0;34m\u001b[0m\u001b[0;34m\u001b[0m\u001b[0m\n\u001b[1;32m   1238\u001b[0m                                         \u001b[0mvalidation_steps\u001b[0m\u001b[0;34m=\u001b[0m\u001b[0mvalidation_steps\u001b[0m\u001b[0;34m,\u001b[0m\u001b[0;34m\u001b[0m\u001b[0;34m\u001b[0m\u001b[0m\n\u001b[0;32m-> 1239\u001b[0;31m                                         validation_freq=validation_freq)\n\u001b[0m\u001b[1;32m   1240\u001b[0m \u001b[0;34m\u001b[0m\u001b[0m\n\u001b[1;32m   1241\u001b[0m     def evaluate(self,\n",
            "\u001b[0;32m/usr/local/lib/python3.6/dist-packages/keras/engine/training_arrays.py\u001b[0m in \u001b[0;36mfit_loop\u001b[0;34m(model, fit_function, fit_inputs, out_labels, batch_size, epochs, verbose, callbacks, val_function, val_inputs, shuffle, initial_epoch, steps_per_epoch, validation_steps, validation_freq)\u001b[0m\n\u001b[1;32m    194\u001b[0m                     \u001b[0mins_batch\u001b[0m\u001b[0;34m[\u001b[0m\u001b[0mi\u001b[0m\u001b[0;34m]\u001b[0m \u001b[0;34m=\u001b[0m \u001b[0mins_batch\u001b[0m\u001b[0;34m[\u001b[0m\u001b[0mi\u001b[0m\u001b[0;34m]\u001b[0m\u001b[0;34m.\u001b[0m\u001b[0mtoarray\u001b[0m\u001b[0;34m(\u001b[0m\u001b[0;34m)\u001b[0m\u001b[0;34m\u001b[0m\u001b[0;34m\u001b[0m\u001b[0m\n\u001b[1;32m    195\u001b[0m \u001b[0;34m\u001b[0m\u001b[0m\n\u001b[0;32m--> 196\u001b[0;31m                 \u001b[0mouts\u001b[0m \u001b[0;34m=\u001b[0m \u001b[0mfit_function\u001b[0m\u001b[0;34m(\u001b[0m\u001b[0mins_batch\u001b[0m\u001b[0;34m)\u001b[0m\u001b[0;34m\u001b[0m\u001b[0;34m\u001b[0m\u001b[0m\n\u001b[0m\u001b[1;32m    197\u001b[0m                 \u001b[0mouts\u001b[0m \u001b[0;34m=\u001b[0m \u001b[0mto_list\u001b[0m\u001b[0;34m(\u001b[0m\u001b[0mouts\u001b[0m\u001b[0;34m)\u001b[0m\u001b[0;34m\u001b[0m\u001b[0;34m\u001b[0m\u001b[0m\n\u001b[1;32m    198\u001b[0m                 \u001b[0;32mfor\u001b[0m \u001b[0ml\u001b[0m\u001b[0;34m,\u001b[0m \u001b[0mo\u001b[0m \u001b[0;32min\u001b[0m \u001b[0mzip\u001b[0m\u001b[0;34m(\u001b[0m\u001b[0mout_labels\u001b[0m\u001b[0;34m,\u001b[0m \u001b[0mouts\u001b[0m\u001b[0;34m)\u001b[0m\u001b[0;34m:\u001b[0m\u001b[0;34m\u001b[0m\u001b[0;34m\u001b[0m\u001b[0m\n",
            "\u001b[0;32m/usr/local/lib/python3.6/dist-packages/tensorflow/python/keras/backend.py\u001b[0m in \u001b[0;36m__call__\u001b[0;34m(self, inputs)\u001b[0m\n\u001b[1;32m   3798\u001b[0m     return nest.pack_sequence_as(\n\u001b[1;32m   3799\u001b[0m         \u001b[0mself\u001b[0m\u001b[0;34m.\u001b[0m\u001b[0m_outputs_structure\u001b[0m\u001b[0;34m,\u001b[0m\u001b[0;34m\u001b[0m\u001b[0;34m\u001b[0m\u001b[0m\n\u001b[0;32m-> 3800\u001b[0;31m         \u001b[0;34m[\u001b[0m\u001b[0mx\u001b[0m\u001b[0;34m.\u001b[0m\u001b[0m_numpy\u001b[0m\u001b[0;34m(\u001b[0m\u001b[0;34m)\u001b[0m \u001b[0;32mfor\u001b[0m \u001b[0mx\u001b[0m \u001b[0;32min\u001b[0m \u001b[0moutputs\u001b[0m\u001b[0;34m]\u001b[0m\u001b[0;34m,\u001b[0m  \u001b[0;31m# pylint: disable=protected-access\u001b[0m\u001b[0;34m\u001b[0m\u001b[0;34m\u001b[0m\u001b[0m\n\u001b[0m\u001b[1;32m   3801\u001b[0m         expand_composites=True)\n\u001b[1;32m   3802\u001b[0m \u001b[0;34m\u001b[0m\u001b[0m\n",
            "\u001b[0;32m/usr/local/lib/python3.6/dist-packages/tensorflow/python/keras/backend.py\u001b[0m in \u001b[0;36m<listcomp>\u001b[0;34m(.0)\u001b[0m\n\u001b[1;32m   3798\u001b[0m     return nest.pack_sequence_as(\n\u001b[1;32m   3799\u001b[0m         \u001b[0mself\u001b[0m\u001b[0;34m.\u001b[0m\u001b[0m_outputs_structure\u001b[0m\u001b[0;34m,\u001b[0m\u001b[0;34m\u001b[0m\u001b[0;34m\u001b[0m\u001b[0m\n\u001b[0;32m-> 3800\u001b[0;31m         \u001b[0;34m[\u001b[0m\u001b[0mx\u001b[0m\u001b[0;34m.\u001b[0m\u001b[0m_numpy\u001b[0m\u001b[0;34m(\u001b[0m\u001b[0;34m)\u001b[0m \u001b[0;32mfor\u001b[0m \u001b[0mx\u001b[0m \u001b[0;32min\u001b[0m \u001b[0moutputs\u001b[0m\u001b[0;34m]\u001b[0m\u001b[0;34m,\u001b[0m  \u001b[0;31m# pylint: disable=protected-access\u001b[0m\u001b[0;34m\u001b[0m\u001b[0;34m\u001b[0m\u001b[0m\n\u001b[0m\u001b[1;32m   3801\u001b[0m         expand_composites=True)\n\u001b[1;32m   3802\u001b[0m \u001b[0;34m\u001b[0m\u001b[0m\n",
            "\u001b[0;32m/usr/local/lib/python3.6/dist-packages/tensorflow/python/framework/ops.py\u001b[0m in \u001b[0;36m_numpy\u001b[0;34m(self)\u001b[0m\n\u001b[1;32m    925\u001b[0m     \u001b[0;31m# pylint: disable=protected-access\u001b[0m\u001b[0;34m\u001b[0m\u001b[0;34m\u001b[0m\u001b[0;34m\u001b[0m\u001b[0m\n\u001b[1;32m    926\u001b[0m     \u001b[0;32mtry\u001b[0m\u001b[0;34m:\u001b[0m\u001b[0;34m\u001b[0m\u001b[0;34m\u001b[0m\u001b[0m\n\u001b[0;32m--> 927\u001b[0;31m       \u001b[0;32mreturn\u001b[0m \u001b[0mself\u001b[0m\u001b[0;34m.\u001b[0m\u001b[0m_numpy_internal\u001b[0m\u001b[0;34m(\u001b[0m\u001b[0;34m)\u001b[0m\u001b[0;34m\u001b[0m\u001b[0;34m\u001b[0m\u001b[0m\n\u001b[0m\u001b[1;32m    928\u001b[0m     \u001b[0;32mexcept\u001b[0m \u001b[0mcore\u001b[0m\u001b[0;34m.\u001b[0m\u001b[0m_NotOkStatusException\u001b[0m \u001b[0;32mas\u001b[0m \u001b[0me\u001b[0m\u001b[0;34m:\u001b[0m\u001b[0;34m\u001b[0m\u001b[0;34m\u001b[0m\u001b[0m\n\u001b[1;32m    929\u001b[0m       \u001b[0msix\u001b[0m\u001b[0;34m.\u001b[0m\u001b[0mraise_from\u001b[0m\u001b[0;34m(\u001b[0m\u001b[0mcore\u001b[0m\u001b[0;34m.\u001b[0m\u001b[0m_status_to_exception\u001b[0m\u001b[0;34m(\u001b[0m\u001b[0me\u001b[0m\u001b[0;34m.\u001b[0m\u001b[0mcode\u001b[0m\u001b[0;34m,\u001b[0m \u001b[0me\u001b[0m\u001b[0;34m.\u001b[0m\u001b[0mmessage\u001b[0m\u001b[0;34m)\u001b[0m\u001b[0;34m,\u001b[0m \u001b[0;32mNone\u001b[0m\u001b[0;34m)\u001b[0m\u001b[0;34m\u001b[0m\u001b[0;34m\u001b[0m\u001b[0m\n",
            "\u001b[0;31mKeyboardInterrupt\u001b[0m: "
          ]
        }
      ]
    },
    {
      "cell_type": "code",
      "metadata": {
        "id": "uHn1TO6T82wg",
        "colab_type": "code",
        "colab": {}
      },
      "source": [
        ""
      ],
      "execution_count": 0,
      "outputs": []
    }
  ]
}