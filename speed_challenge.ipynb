{
  "nbformat": 4,
  "nbformat_minor": 0,
  "metadata": {
    "colab": {
      "name": "speed_challenge.ipynb",
      "provenance": [],
      "collapsed_sections": [],
      "machine_shape": "hm",
      "authorship_tag": "ABX9TyOte47DYwkSv2Sjdb20xwPG",
      "include_colab_link": true
    },
    "kernelspec": {
      "name": "python3",
      "display_name": "Python 3"
    },
    "accelerator": "GPU"
  },
  "cells": [
    {
      "cell_type": "markdown",
      "metadata": {
        "id": "view-in-github",
        "colab_type": "text"
      },
      "source": [
        "<a href=\"https://colab.research.google.com/github/diggs1711/comma-ai-speed-challenge/blob/master/speed_challenge.ipynb\" target=\"_parent\"><img src=\"https://colab.research.google.com/assets/colab-badge.svg\" alt=\"Open In Colab\"/></a>"
      ]
    },
    {
      "cell_type": "code",
      "metadata": {
        "id": "XwCp3FVfM4Au",
        "colab_type": "code",
        "outputId": "5e727364-9909-45f8-ae60-66ff08c207c1",
        "colab": {
          "base_uri": "https://localhost:8080/",
          "height": 34
        }
      },
      "source": [
        "%matplotlib inline\n",
        "from cv2 import VideoCapture, namedWindow, WINDOW_AUTOSIZE, waitKey\n",
        "from google.colab.patches import cv2_imshow\n",
        "import numpy as np\n",
        "import pandas as pd\n",
        "from google.colab import drive\n",
        "drive.mount('/content/drive')"
      ],
      "execution_count": 2,
      "outputs": [
        {
          "output_type": "stream",
          "text": [
            "Drive already mounted at /content/drive; to attempt to forcibly remount, call drive.mount(\"/content/drive\", force_remount=True).\n"
          ],
          "name": "stdout"
        }
      ]
    },
    {
      "cell_type": "code",
      "metadata": {
        "id": "LUrpshliPZUp",
        "colab_type": "code",
        "colab": {}
      },
      "source": [
        "from pathlib import Path\n",
        "drive_path = Path('/content/drive/My Drive/comma_ai_speed_challenge/speedchallenge-master/data/')"
      ],
      "execution_count": 0,
      "outputs": []
    },
    {
      "cell_type": "code",
      "metadata": {
        "id": "4TPxE9HBNmVc",
        "colab_type": "code",
        "colab": {}
      },
      "source": [
        "train_vals = np.array(pd.read_fwf(drive_path/'train.txt', header=None))"
      ],
      "execution_count": 0,
      "outputs": []
    },
    {
      "cell_type": "code",
      "metadata": {
        "id": "hDnl-8TSu9sO",
        "colab_type": "code",
        "outputId": "4ff2f2bb-912a-479e-933e-86863aaf9d57",
        "colab": {
          "base_uri": "https://localhost:8080/",
          "height": 289
        }
      },
      "source": [
        "print(f\"mean {train_vals.mean()}\")\n",
        "print(f\"max {train_vals.max()}\")\n",
        "print(f\"std {train_vals.std()}\")\n",
        "print(f\"min {train_vals.min()}\")\n",
        "\n",
        "idx = int(len(train_vals) / 2)\n",
        "print()\n",
        "print(\"*** First half of video ****\")\n",
        "first_half = train_vals[:idx]\n",
        "print(f\"mean 1st {first_half.mean()}\")\n",
        "print(f\"max 1st {first_half.max()}\")\n",
        "print(f\"std 1st {first_half.std()}\")\n",
        "print(f\"min 1st {first_half.min()}\")\n",
        "\n",
        "print()\n",
        "print(\"*** Second half of video ****\")\n",
        "second_half = train_vals[idx:]\n",
        "print(f\"mean 2nd {second_half.mean()}\")\n",
        "print(f\"max 2nd {second_half.max()}\")\n",
        "print(f\"std 2nd {second_half.std()}\")\n",
        "print(f\"min 2nd {second_half.min()}\")"
      ],
      "execution_count": 28,
      "outputs": [
        {
          "output_type": "stream",
          "text": [
            "mean 12.183181660441177\n",
            "max 28.130404\n",
            "std 8.206561706745727\n",
            "min 0.0\n",
            "\n",
            "*** First half of video ****\n",
            "mean 1st 18.66717958362745\n",
            "max 1st 28.130404\n",
            "std 1st 5.883530076403356\n",
            "min 1st 0.0\n",
            "\n",
            "*** Second half of video ****\n",
            "mean 2nd 5.699183737254902\n",
            "max 2nd 14.890168\n",
            "std 2nd 3.9993656743963695\n",
            "min 2nd 0.0\n"
          ],
          "name": "stdout"
        }
      ]
    },
    {
      "cell_type": "code",
      "metadata": {
        "id": "ngHfnZosUbw8",
        "colab_type": "code",
        "colab": {}
      },
      "source": [
        "numberOfFrame = 20400\n",
        "fps = 20\n",
        "cropped_image_height = 100\n",
        "cropped_image_width = 440"
      ],
      "execution_count": 0,
      "outputs": []
    },
    {
      "cell_type": "code",
      "metadata": {
        "id": "9P8sBQLXON8f",
        "colab_type": "code",
        "colab": {}
      },
      "source": [
        "# load video frame by frame\n",
        "cap = VideoCapture(str(drive_path/'train.mp4'))\n",
        "i = 0\n",
        "video_frames = []\n",
        "\n",
        "while i < numberOfFrame:\n",
        "  ret_val, frame = cap.read()\n",
        "  cropped_image = frame[200:200+cropped_image_height,100:100+cropped_image_width, 2]\n",
        "  video_frames.append(np.array(cropped_image))\n",
        "  i = i + 1\n",
        "\n",
        "cap.release()"
      ],
      "execution_count": 0,
      "outputs": []
    },
    {
      "cell_type": "code",
      "metadata": {
        "id": "7U3qHXWL5WRW",
        "colab_type": "code",
        "colab": {}
      },
      "source": [
        "video_frames = np.array(video_frames)"
      ],
      "execution_count": 0,
      "outputs": []
    },
    {
      "cell_type": "code",
      "metadata": {
        "id": "8EuCZWt290jG",
        "colab_type": "code",
        "colab": {}
      },
      "source": [
        "np.save(str(drive_path/'video_frames'), video_frames)"
      ],
      "execution_count": 0,
      "outputs": []
    },
    {
      "cell_type": "code",
      "metadata": {
        "id": "_aH9pkXs9_Yf",
        "colab_type": "code",
        "colab": {}
      },
      "source": [
        "video_frames = np.load(str(drive_path/'video_frames.npy'))"
      ],
      "execution_count": 0,
      "outputs": []
    },
    {
      "cell_type": "code",
      "metadata": {
        "id": "GA5KKAts-iAd",
        "colab_type": "code",
        "colab": {
          "base_uri": "https://localhost:8080/",
          "height": 34
        },
        "outputId": "e3fe1357-12a5-407a-c3ed-018de76f35bf"
      },
      "source": [
        "video_frames.shape"
      ],
      "execution_count": 7,
      "outputs": [
        {
          "output_type": "execute_result",
          "data": {
            "text/plain": [
              "(20400, 100, 440)"
            ]
          },
          "metadata": {
            "tags": []
          },
          "execution_count": 7
        }
      ]
    },
    {
      "cell_type": "code",
      "metadata": {
        "id": "E7CdM2ZK-lV_",
        "colab_type": "code",
        "colab": {
          "base_uri": "https://localhost:8080/",
          "height": 117
        },
        "outputId": "2040429f-eabb-4481-86ca-0468bd26867d"
      },
      "source": [
        "cv2_imshow(video_frames[10000,:,:])"
      ],
      "execution_count": 8,
      "outputs": [
        {
          "output_type": "display_data",
          "data": {
            "image/png": "[encoded data removed]",
            "text/plain": [
              "<PIL.Image.Image image mode=L size=440x100 at 0x7F4FCA34C588>"
            ]
          },
          "metadata": {
            "tags": []
          }
        }
      ]
    },
    {
      "cell_type": "code",
      "metadata": {
        "id": "RV7WpSgk2zql",
        "colab_type": "code",
        "colab": {}
      },
      "source": [
        "# create train and validation sets\n",
        "import math\n",
        "valid_idx =  math.floor(numberOfFrame * 0.8)\n",
        "reduce_idx = 10000\n",
        "X_train = video_frames[reduce_idx:valid_idx][np.newaxis, ..., np.newaxis]\n",
        "y_train = train_vals[reduce_idx:valid_idx][np.newaxis]\n",
        "\n",
        "X_valid = video_frames[valid_idx:][np.newaxis, ..., np.newaxis]\n",
        "y_valid = train_vals[valid_idx:][np.newaxis]"
      ],
      "execution_count": 0,
      "outputs": []
    },
    {
      "cell_type": "code",
      "metadata": {
        "id": "RiHyP_mZAYkR",
        "colab_type": "code",
        "colab": {}
      },
      "source": [
        "# normalize values between 0 and 1\n",
        "X_train = X_train / 255\n",
        "X_valid = X_valid / 255"
      ],
      "execution_count": 0,
      "outputs": []
    },
    {
      "cell_type": "code",
      "metadata": {
        "id": "aoKPa5l0DHwP",
        "colab_type": "code",
        "colab": {
          "base_uri": "https://localhost:8080/",
          "height": 34
        },
        "outputId": "999edcd9-8200-471a-c0da-c4aa8e376572"
      },
      "source": [
        "X_valid.shape"
      ],
      "execution_count": 11,
      "outputs": [
        {
          "output_type": "execute_result",
          "data": {
            "text/plain": [
              "(1, 4080, 100, 440, 1)"
            ]
          },
          "metadata": {
            "tags": []
          },
          "execution_count": 11
        }
      ]
    },
    {
      "cell_type": "code",
      "metadata": {
        "id": "OMZUoE62WodP",
        "colab_type": "code",
        "colab": {
          "base_uri": "https://localhost:8080/",
          "height": 34
        },
        "outputId": "3eae763e-682a-474a-ae8e-f03727eba300"
      },
      "source": [
        "import gc\n",
        "\n",
        "del video_frames, train_vals;\n",
        "\n",
        "gc.collect()"
      ],
      "execution_count": 12,
      "outputs": [
        {
          "output_type": "execute_result",
          "data": {
            "text/plain": [
              "68"
            ]
          },
          "metadata": {
            "tags": []
          },
          "execution_count": 12
        }
      ]
    },
    {
      "cell_type": "code",
      "metadata": {
        "id": "WoQ0Nff63EI-",
        "colab_type": "code",
        "outputId": "36adfe2d-7199-4a34-d211-3ce5027e9f87",
        "colab": {
          "base_uri": "https://localhost:8080/",
          "height": 1000
        }
      },
      "source": [
        "from keras.layers import Dense, Flatten\n",
        "from keras.layers import ConvLSTM2D, TimeDistributed\n",
        "from keras.models import Sequential\n",
        "import keras\n",
        "\n",
        "model=Sequential()\n",
        "model.add(\n",
        "    ConvLSTM2D(\n",
        "        2,\n",
        "        (5, 5),\n",
        "        strides=3, \n",
        "        padding='same',\n",
        "        return_sequences=True,\n",
        "        input_shape=(None, X_train.shape[2], X_train.shape[3], X_train.shape[4])\n",
        "        )\n",
        "    )\n",
        "model.add(TimeDistributed(Flatten()))\n",
        "model.add(TimeDistributed(Dense(1)))\n",
        "model.compile(loss='mse', optimizer=keras.optimizers.Adam(), metrics=['mse'])\n",
        "\n",
        "model.summary()\n",
        "model.fit(\n",
        "    X_train,\n",
        "    y_train,\n",
        "    batch_size=1,\n",
        "    epochs=100, \n",
        "    validation_data=(X_valid, y_valid)\n",
        "    )"
      ],
      "execution_count": 0,
      "outputs": [
        {
          "output_type": "stream",
          "text": [
            "Model: \"sequential_4\"\n",
            "_________________________________________________________________\n",
            "Layer (type)                 Output Shape              Param #   \n",
            "=================================================================\n",
            "conv_lst_m2d_3 (ConvLSTM2D)  (None, None, 34, 147, 2)  608       \n",
            "_________________________________________________________________\n",
            "time_distributed_5 (TimeDist (None, None, 9996)        0         \n",
            "_________________________________________________________________\n",
            "time_distributed_6 (TimeDist (None, None, 1)           9997      \n",
            "=================================================================\n",
            "Total params: 10,605\n",
            "Trainable params: 10,605\n",
            "Non-trainable params: 0\n",
            "_________________________________________________________________\n",
            "Train on 1 samples, validate on 1 samples\n",
            "Epoch 1/100\n",
            "1/1 [==============================] - 40s 40s/step - loss: 50.2632 - mse: 50.2632 - val_loss: 45.3604 - val_mse: 45.3604\n",
            "Epoch 2/100\n",
            "1/1 [==============================] - 38s 38s/step - loss: 47.9855 - mse: 47.9855 - val_loss: 41.8007 - val_mse: 41.8007\n",
            "Epoch 3/100\n",
            "1/1 [==============================] - 38s 38s/step - loss: 43.9896 - mse: 43.9896 - val_loss: 36.8058 - val_mse: 36.8058\n",
            "Epoch 4/100\n",
            "1/1 [==============================] - 37s 37s/step - loss: 37.2804 - mse: 37.2804 - val_loss: 35.3346 - val_mse: 35.3346\n",
            "Epoch 5/100\n",
            "1/1 [==============================] - 37s 37s/step - loss: 34.8340 - mse: 34.8340 - val_loss: 32.9795 - val_mse: 32.9795\n",
            "Epoch 6/100\n",
            "1/1 [==============================] - 37s 37s/step - loss: 24.0802 - mse: 24.0802 - val_loss: 29.8661 - val_mse: 29.8661\n",
            "Epoch 7/100\n",
            "1/1 [==============================] - 38s 38s/step - loss: 19.9790 - mse: 19.9790 - val_loss: 29.7154 - val_mse: 29.7154\n",
            "Epoch 8/100\n",
            "1/1 [==============================] - 37s 37s/step - loss: 15.9364 - mse: 15.9364 - val_loss: 19.4549 - val_mse: 19.4549\n",
            "Epoch 9/100\n",
            "1/1 [==============================] - 38s 38s/step - loss: 14.6452 - mse: 14.6452 - val_loss: 20.1988 - val_mse: 20.1988\n",
            "Epoch 10/100\n",
            "1/1 [==============================] - 38s 38s/step - loss: 16.4999 - mse: 16.4999 - val_loss: 20.2026 - val_mse: 20.2026\n",
            "Epoch 11/100\n",
            "1/1 [==============================] - 39s 39s/step - loss: 15.7149 - mse: 15.7149 - val_loss: 20.6429 - val_mse: 20.6429\n",
            "Epoch 12/100\n",
            "1/1 [==============================] - 38s 38s/step - loss: 15.3596 - mse: 15.3596 - val_loss: 21.7466 - val_mse: 21.7466\n",
            "Epoch 13/100\n",
            "1/1 [==============================] - 38s 38s/step - loss: 20.6763 - mse: 20.6763 - val_loss: 23.0239 - val_mse: 23.0239\n",
            "Epoch 14/100\n",
            "1/1 [==============================] - 38s 38s/step - loss: 22.4476 - mse: 22.4476 - val_loss: 23.5150 - val_mse: 23.5150\n",
            "Epoch 15/100\n",
            "1/1 [==============================] - 38s 38s/step - loss: 21.5345 - mse: 21.5345 - val_loss: 23.3927 - val_mse: 23.3927\n",
            "Epoch 16/100\n",
            "1/1 [==============================] - 38s 38s/step - loss: 20.2594 - mse: 20.2594 - val_loss: 22.8224 - val_mse: 22.8224\n",
            "Epoch 17/100\n",
            "1/1 [==============================] - 38s 38s/step - loss: 18.5276 - mse: 18.5276 - val_loss: 22.2133 - val_mse: 22.2133\n",
            "Epoch 18/100\n",
            "1/1 [==============================] - 37s 37s/step - loss: 17.2893 - mse: 17.2893 - val_loss: 21.7345 - val_mse: 21.7345\n",
            "Epoch 19/100\n",
            "1/1 [==============================] - 37s 37s/step - loss: 16.4061 - mse: 16.4061 - val_loss: 21.4671 - val_mse: 21.4671\n",
            "Epoch 20/100\n",
            "1/1 [==============================] - 38s 38s/step - loss: 16.0807 - mse: 16.0807 - val_loss: 21.3765 - val_mse: 21.3765\n",
            "Epoch 21/100\n",
            "1/1 [==============================] - 37s 37s/step - loss: 15.8540 - mse: 15.8540 - val_loss: 21.3420 - val_mse: 21.3420\n",
            "Epoch 22/100\n",
            "1/1 [==============================] - 38s 38s/step - loss: 15.8939 - mse: 15.8939 - val_loss: 21.3078 - val_mse: 21.3078\n",
            "Epoch 23/100\n",
            "1/1 [==============================] - 38s 38s/step - loss: 15.8902 - mse: 15.8902 - val_loss: 21.2085 - val_mse: 21.2085\n",
            "Epoch 24/100\n",
            "1/1 [==============================] - 39s 39s/step - loss: 15.8447 - mse: 15.8447 - val_loss: 21.0590 - val_mse: 21.0590\n",
            "Epoch 25/100\n",
            "1/1 [==============================] - 39s 39s/step - loss: 15.6164 - mse: 15.6164 - val_loss: 21.0373 - val_mse: 21.0373\n",
            "Epoch 26/100\n",
            "1/1 [==============================] - 39s 39s/step - loss: 15.3103 - mse: 15.3103 - val_loss: 21.0072 - val_mse: 21.0072\n",
            "Epoch 27/100\n",
            "1/1 [==============================] - 39s 39s/step - loss: 15.1293 - mse: 15.1293 - val_loss: 20.9764 - val_mse: 20.9764\n",
            "Epoch 28/100\n",
            "1/1 [==============================] - 39s 39s/step - loss: 15.0117 - mse: 15.0117 - val_loss: 21.0889 - val_mse: 21.0889\n",
            "Epoch 29/100\n",
            "1/1 [==============================] - 38s 38s/step - loss: 14.8788 - mse: 14.8788 - val_loss: 21.0132 - val_mse: 21.0132\n",
            "Epoch 30/100\n"
          ],
          "name": "stdout"
        }
      ]
    },
    {
      "cell_type": "code",
      "metadata": {
        "id": "YykfNFHEWeqJ",
        "colab_type": "code",
        "colab": {}
      },
      "source": [
        ""
      ],
      "execution_count": 0,
      "outputs": []
    }
  ]
}