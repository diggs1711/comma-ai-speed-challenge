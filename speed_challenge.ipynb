{
  "nbformat": 4,
  "nbformat_minor": 0,
  "metadata": {
    "colab": {
      "name": "speed_challenge.ipynb",
      "provenance": [],
      "collapsed_sections": [],
      "machine_shape": "hm",
      "authorship_tag": "ABX9TyOtPjdU/d9oSk2ovgeDLbJT",
      "include_colab_link": true
    },
    "kernelspec": {
      "name": "python3",
      "display_name": "Python 3"
    },
    "accelerator": "GPU"
  },
  "cells": [
    {
      "cell_type": "markdown",
      "metadata": {
        "id": "view-in-github",
        "colab_type": "text"
      },
      "source": [
        "<a href=\"https://colab.research.google.com/github/diggs1711/comma-ai-speed-challenge/blob/master/speed_challenge.ipynb\" target=\"_parent\"><img src=\"https://colab.research.google.com/assets/colab-badge.svg\" alt=\"Open In Colab\"/></a>"
      ]
    },
    {
      "cell_type": "code",
      "metadata": {
        "id": "XwCp3FVfM4Au",
        "colab_type": "code",
        "outputId": "ae035566-5cbe-4897-8cb6-33dcf293296f",
        "colab": {
          "base_uri": "https://localhost:8080/",
          "height": 34
        }
      },
      "source": [
        "%matplotlib inline\n",
        "from cv2 import VideoCapture\n",
        "from google.colab.patches import cv2_imshow\n",
        "import numpy as np\n",
        "import pandas as pd\n",
        "import gc\n",
        "import math\n",
        "\n",
        "from google.colab import drive\n",
        "drive.mount('/content/drive')"
      ],
      "execution_count": 5,
      "outputs": [
        {
          "output_type": "stream",
          "text": [
            "Drive already mounted at /content/drive; to attempt to forcibly remount, call drive.mount(\"/content/drive\", force_remount=True).\n"
          ],
          "name": "stdout"
        }
      ]
    },
    {
      "cell_type": "code",
      "metadata": {
        "id": "LUrpshliPZUp",
        "colab_type": "code",
        "colab": {}
      },
      "source": [
        "from pathlib import Path\n",
        "drive_path = Path('/content/drive/My Drive/comma_ai_speed_challenge/speedchallenge-master/data/')"
      ],
      "execution_count": 0,
      "outputs": []
    },
    {
      "cell_type": "code",
      "metadata": {
        "id": "obHzOMkLZbEd",
        "colab_type": "code",
        "colab": {
          "base_uri": "https://localhost:8080/",
          "height": 34
        },
        "outputId": "8690feac-73f9-4127-a801-4426da2d94ac"
      },
      "source": [
        "drive_path"
      ],
      "execution_count": 3,
      "outputs": [
        {
          "output_type": "execute_result",
          "data": {
            "text/plain": [
              "PosixPath('/content/drive/My Drive/comma_ai_speed_challenge/speedchallenge-master/data')"
            ]
          },
          "metadata": {
            "tags": []
          },
          "execution_count": 3
        }
      ]
    },
    {
      "cell_type": "code",
      "metadata": {
        "id": "4TPxE9HBNmVc",
        "colab_type": "code",
        "colab": {}
      },
      "source": [
        "train_vals = np.array(pd.read_fwf(drive_path/'train.txt', header=None))"
      ],
      "execution_count": 0,
      "outputs": []
    },
    {
      "cell_type": "code",
      "metadata": {
        "id": "hDnl-8TSu9sO",
        "colab_type": "code",
        "colab": {}
      },
      "source": [
        "# print(f\"mean {train_vals.mean()}\")\n",
        "# print(f\"max {train_vals.max()}\")\n",
        "# print(f\"std {train_vals.std()}\")\n",
        "# print(f\"min {train_vals.min()}\")\n",
        "\n",
        "# idx = int(len(train_vals) / 2)\n",
        "# print()\n",
        "# print(\"*** First half of video ****\")\n",
        "# first_half = train_vals[:idx]\n",
        "# print(f\"mean 1st {first_half.mean()}\")\n",
        "# print(f\"max 1st {first_half.max()}\")\n",
        "# print(f\"std 1st {first_half.std()}\")\n",
        "# print(f\"min 1st {first_half.min()}\")\n",
        "\n",
        "# print()\n",
        "# print(\"*** Second half of video ****\")\n",
        "# second_half = train_vals[idx:]\n",
        "# print(f\"mean 2nd {second_half.mean()}\")\n",
        "# print(f\"max 2nd {second_half.max()}\")\n",
        "# print(f\"std 2nd {second_half.std()}\")\n",
        "# print(f\"min 2nd {second_half.min()}\")"
      ],
      "execution_count": 0,
      "outputs": []
    },
    {
      "cell_type": "code",
      "metadata": {
        "id": "ngHfnZosUbw8",
        "colab_type": "code",
        "colab": {}
      },
      "source": [
        "numberOfFrame = 20400\n",
        "fps = 20\n",
        "cropped_image_height = 66\n",
        "cropped_image_width = 224"
      ],
      "execution_count": 0,
      "outputs": []
    },
    {
      "cell_type": "code",
      "metadata": {
        "id": "9P8sBQLXON8f",
        "colab_type": "code",
        "colab": {}
      },
      "source": [
        "# load video frame by frame\n",
        "cap = VideoCapture(str(drive_path/'train.mp4'))\n",
        "i = 0\n",
        "video_frames = []\n",
        "\n",
        "while i < numberOfFrame:\n",
        "  ret_val, frame = cap.read()\n",
        "  cropped_image = frame[210:210+66,208:-208,:]\n",
        "  scaled = np.array(cropped_image) / 255\n",
        "  video_frames.append(scaled.astype('float16'))\n",
        "  i = i + 1\n",
        "\n",
        "cap.release()"
      ],
      "execution_count": 0,
      "outputs": []
    },
    {
      "cell_type": "code",
      "metadata": {
        "id": "bR7eaXYq9Vkj",
        "colab_type": "code",
        "colab": {
          "base_uri": "https://localhost:8080/",
          "height": 34
        },
        "outputId": "ba25ae98-c10d-4ecf-9951-241c2d8a510d"
      },
      "source": [
        "del cap, frame, cropped_image\n",
        "gc.collect()"
      ],
      "execution_count": 8,
      "outputs": [
        {
          "output_type": "execute_result",
          "data": {
            "text/plain": [
              "253"
            ]
          },
          "metadata": {
            "tags": []
          },
          "execution_count": 8
        }
      ]
    },
    {
      "cell_type": "code",
      "metadata": {
        "id": "7U3qHXWL5WRW",
        "colab_type": "code",
        "colab": {}
      },
      "source": [
        "# video_frames = np.array(video_frames)"
      ],
      "execution_count": 0,
      "outputs": []
    },
    {
      "cell_type": "code",
      "metadata": {
        "id": "8EuCZWt290jG",
        "colab_type": "code",
        "colab": {}
      },
      "source": [
        "# np.save(str(drive_path/'video_frames'), video_frames)"
      ],
      "execution_count": 0,
      "outputs": []
    },
    {
      "cell_type": "code",
      "metadata": {
        "id": "_aH9pkXs9_Yf",
        "colab_type": "code",
        "colab": {}
      },
      "source": [
        "# video_frames = np.load(str(drive_path/'video_frames.npy')) / 255"
      ],
      "execution_count": 0,
      "outputs": []
    },
    {
      "cell_type": "code",
      "metadata": {
        "id": "6ctSGqXQezCR",
        "colab_type": "code",
        "colab": {}
      },
      "source": [
        "def chunk_video(data, target_data=None):\n",
        "  chunk_size = 100\n",
        "  result = []\n",
        "  target = []\n",
        "  i = 1\n",
        "  while i < len(data):\n",
        "    if i % chunk_size == 0:\n",
        "      result.append(data[i-chunk_size:i])\n",
        "      if target_data is not None:\n",
        "        target.append(target_data[i-chunk_size:i])\n",
        "    i = i + 1\n",
        "\n",
        "  return result, target"
      ],
      "execution_count": 0,
      "outputs": []
    },
    {
      "cell_type": "code",
      "metadata": {
        "id": "IMIbRH5E2a3i",
        "colab_type": "code",
        "colab": {}
      },
      "source": [
        "X, y = chunk_video(video_frames, train_vals)"
      ],
      "execution_count": 0,
      "outputs": []
    },
    {
      "cell_type": "code",
      "metadata": {
        "id": "RV7WpSgk2zql",
        "colab_type": "code",
        "colab": {}
      },
      "source": [
        "# create train and validation sets\n",
        "from sklearn.model_selection import train_test_split\n",
        "\n",
        "X_train, X_valid, y_train, y_valid = train_test_split(X, y, test_size=0.2)"
      ],
      "execution_count": 0,
      "outputs": []
    },
    {
      "cell_type": "code",
      "metadata": {
        "id": "OMZUoE62WodP",
        "colab_type": "code",
        "outputId": "e17a53b4-5989-472f-af2f-e9f988b8cc2a",
        "colab": {
          "base_uri": "https://localhost:8080/",
          "height": 34
        }
      },
      "source": [
        "del video_frames, train_vals;\n",
        "gc.collect()"
      ],
      "execution_count": 13,
      "outputs": [
        {
          "output_type": "execute_result",
          "data": {
            "text/plain": [
              "0"
            ]
          },
          "metadata": {
            "tags": []
          },
          "execution_count": 13
        }
      ]
    },
    {
      "cell_type": "code",
      "metadata": {
        "id": "iurusukXC18C",
        "colab_type": "code",
        "colab": {
          "base_uri": "https://localhost:8080/",
          "height": 34
        },
        "outputId": "a5617f19-5ae3-4160-ba7d-29f32eb1ce47"
      },
      "source": [
        "np.array(X_train).shape"
      ],
      "execution_count": 18,
      "outputs": [
        {
          "output_type": "execute_result",
          "data": {
            "text/plain": [
              "(162, 100, 66, 224, 3)"
            ]
          },
          "metadata": {
            "tags": []
          },
          "execution_count": 18
        }
      ]
    },
    {
      "cell_type": "code",
      "metadata": {
        "id": "kG-ClkPhFZhi",
        "colab_type": "code",
        "colab": {}
      },
      "source": [
        "# X_train = X_train[..., np.newaxis]\n",
        "# y_train = y_train\n",
        "\n",
        "# X_valid = X_valid[..., np.newaxis]\n",
        "# y_valid = y_valid"
      ],
      "execution_count": 0,
      "outputs": []
    },
    {
      "cell_type": "code",
      "metadata": {
        "id": "WoQ0Nff63EI-",
        "colab_type": "code",
        "colab": {}
      },
      "source": [
        "from tensorflow.keras.layers import Dense, Flatten, Dropout, GlobalMaxPooling2D, TimeDistributed, LSTM\n",
        "from tensorflow.keras.applications.xception import Xception\n",
        "from tensorflow.keras.models import Sequential\n",
        "from tensorflow.keras import Model, Input\n",
        "import tensorflow.keras.backend as k\n",
        "\n",
        "k.set_image_data_format('channels_last')\n",
        "\n",
        "def build_model():\n",
        "    k.clear_session()\n",
        "    base_model = Xception(weights='imagenet', include_top=False)\n",
        "\n",
        "    img_input = Input(shape=(None, cropped_image_height, cropped_image_width, 3))\n",
        "\n",
        "    x = TimeDistributed(base_model)(img_input)\n",
        "    x = TimeDistributed(GlobalMaxPooling2D())(x)\n",
        "    x = TimeDistributed(Flatten())(x)\n",
        "    x = LSTM(32, return_sequences=True)(x)\n",
        "    x = TimeDistributed(Dense(20, activation='relu'))(x)\n",
        "    output = TimeDistributed(Dense(1, activation='relu'))(x)\n",
        "    mod = Model(inputs=img_input, outputs=output)\n",
        "\n",
        "    for l in base_model.layers:\n",
        "        l.trainable = False\n",
        "    \n",
        "    mod.compile('adam', 'mse')\n",
        "    return mod"
      ],
      "execution_count": 0,
      "outputs": []
    },
    {
      "cell_type": "code",
      "metadata": {
        "id": "p5HqXsh1YQXw",
        "colab_type": "code",
        "colab": {}
      },
      "source": [
        "model = build_model()"
      ],
      "execution_count": 0,
      "outputs": []
    },
    {
      "cell_type": "code",
      "metadata": {
        "id": "3Re5lZB6_Vah",
        "colab_type": "code",
        "colab": {}
      },
      "source": [
        "X_train = np.array(X_train, copy=False)"
      ],
      "execution_count": 0,
      "outputs": []
    },
    {
      "cell_type": "code",
      "metadata": {
        "id": "sc9KC1zC_clt",
        "colab_type": "code",
        "colab": {}
      },
      "source": [
        "X_valid = np.array(X_valid, copy=False)"
      ],
      "execution_count": 0,
      "outputs": []
    },
    {
      "cell_type": "code",
      "metadata": {
        "id": "9ihXSbup_pZ9",
        "colab_type": "code",
        "colab": {}
      },
      "source": [
        "y_train = np.array(y_train, copy=False).astype('float32')"
      ],
      "execution_count": 0,
      "outputs": []
    },
    {
      "cell_type": "code",
      "metadata": {
        "id": "g27SkmNmAqPg",
        "colab_type": "code",
        "colab": {}
      },
      "source": [
        "y_valid =  np.array(y_valid, copy=False).astype('float32')"
      ],
      "execution_count": 0,
      "outputs": []
    },
    {
      "cell_type": "code",
      "metadata": {
        "id": "jbkwIa8SBgNb",
        "colab_type": "code",
        "colab": {}
      },
      "source": [
        "np.save(drive_path/'x_train.npy', X_train)\n",
        "np.save(drive_path/'x_valid.npy', X_valid)\n",
        "np.save(drive_path/'y_train.npy', y_train)\n",
        "np.save(drive_path/'y_valid.npy', y_valid)"
      ],
      "execution_count": 0,
      "outputs": []
    },
    {
      "cell_type": "code",
      "metadata": {
        "id": "5PKfqIKFDfpt",
        "colab_type": "code",
        "colab": {}
      },
      "source": [
        "X_train = np.load(drive_path/'x_train.npy', allow_pickle=True)\n",
        "X_valid = np.load(drive_path/'x_valid.npy', allow_pickle=True)\n",
        "y_train = np.load(drive_path/'y_train.npy', allow_pickle=True)\n",
        "y_valid = np.load(drive_path/'y_valid.npy', allow_pickle=True)"
      ],
      "execution_count": 0,
      "outputs": []
    },
    {
      "cell_type": "code",
      "metadata": {
        "id": "ForhIbgNFW-u",
        "colab_type": "code",
        "colab": {
          "base_uri": "https://localhost:8080/",
          "height": 34
        },
        "outputId": "6211a7fc-cafe-4442-cc88-a6651c9a62ac"
      },
      "source": [
        "gc.collect()"
      ],
      "execution_count": 29,
      "outputs": [
        {
          "output_type": "execute_result",
          "data": {
            "text/plain": [
              "0"
            ]
          },
          "metadata": {
            "tags": []
          },
          "execution_count": 29
        }
      ]
    },
    {
      "cell_type": "code",
      "metadata": {
        "id": "e_3f8l2x_aGs",
        "colab_type": "code",
        "colab": {
          "base_uri": "https://localhost:8080/",
          "height": 34
        },
        "outputId": "9f4095e7-b3af-455f-9ad9-f2dfade4272b"
      },
      "source": [
        "X_train.shape"
      ],
      "execution_count": 30,
      "outputs": [
        {
          "output_type": "execute_result",
          "data": {
            "text/plain": [
              "(162, 100, 66, 224, 3)"
            ]
          },
          "metadata": {
            "tags": []
          },
          "execution_count": 30
        }
      ]
    },
    {
      "cell_type": "code",
      "metadata": {
        "id": "u4S3Z5dn_seM",
        "colab_type": "code",
        "colab": {
          "base_uri": "https://localhost:8080/",
          "height": 34
        },
        "outputId": "8f41974c-69da-4953-d664-0ac4eb20b5b4"
      },
      "source": [
        "y_train.shape"
      ],
      "execution_count": 31,
      "outputs": [
        {
          "output_type": "execute_result",
          "data": {
            "text/plain": [
              "(162, 100, 1)"
            ]
          },
          "metadata": {
            "tags": []
          },
          "execution_count": 31
        }
      ]
    },
    {
      "cell_type": "code",
      "metadata": {
        "id": "Hfg16kiIEFUy",
        "colab_type": "code",
        "colab": {
          "base_uri": "https://localhost:8080/",
          "height": 34
        },
        "outputId": "80fcb86b-4b95-4fdd-efbf-fa0f96fe69ce"
      },
      "source": [
        "X_valid.shape"
      ],
      "execution_count": 38,
      "outputs": [
        {
          "output_type": "execute_result",
          "data": {
            "text/plain": [
              "(41, 100, 66, 224, 3)"
            ]
          },
          "metadata": {
            "tags": []
          },
          "execution_count": 38
        }
      ]
    },
    {
      "cell_type": "code",
      "metadata": {
        "id": "7pW5X8mCJsD-",
        "colab_type": "code",
        "outputId": "be94e1b3-e56c-45da-bab7-566843b2e3e1",
        "colab": {
          "base_uri": "https://localhost:8080/",
          "height": 1000
        }
      },
      "source": [
        "history = model.fit(\n",
        "    X_train,\n",
        "    y_train,\n",
        "    epochs=30,\n",
        "    batch_size=8,\n",
        "    validation_data=(X_valid, y_valid)\n",
        ")"
      ],
      "execution_count": 39,
      "outputs": [
        {
          "output_type": "stream",
          "text": [
            "Epoch 1/30\n",
            "21/21 [==============================] - 15s 719ms/step - loss: 20.1619 - val_loss: 18.5887\n",
            "Epoch 2/30\n",
            "21/21 [==============================] - 13s 610ms/step - loss: 16.7495 - val_loss: 16.0182\n",
            "Epoch 3/30\n",
            "21/21 [==============================] - 13s 614ms/step - loss: 14.6082 - val_loss: 14.9092\n",
            "Epoch 4/30\n",
            "21/21 [==============================] - 13s 614ms/step - loss: 12.6849 - val_loss: 13.9070\n",
            "Epoch 5/30\n",
            "21/21 [==============================] - 13s 613ms/step - loss: 11.0266 - val_loss: 13.1391\n",
            "Epoch 6/30\n",
            "21/21 [==============================] - 13s 626ms/step - loss: 9.9085 - val_loss: 13.1585\n",
            "Epoch 7/30\n",
            "21/21 [==============================] - 13s 633ms/step - loss: 10.1606 - val_loss: 12.2926\n",
            "Epoch 8/30\n",
            "21/21 [==============================] - 13s 626ms/step - loss: 8.6617 - val_loss: 12.2910\n",
            "Epoch 9/30\n",
            "21/21 [==============================] - 13s 609ms/step - loss: 7.7563 - val_loss: 11.6789\n",
            "Epoch 10/30\n",
            "21/21 [==============================] - 13s 609ms/step - loss: 7.2107 - val_loss: 11.7818\n",
            "Epoch 11/30\n",
            "21/21 [==============================] - 13s 609ms/step - loss: 6.5283 - val_loss: 10.7367\n",
            "Epoch 12/30\n",
            "21/21 [==============================] - 13s 607ms/step - loss: 6.8924 - val_loss: 10.6735\n",
            "Epoch 13/30\n",
            "21/21 [==============================] - 13s 609ms/step - loss: 5.7518 - val_loss: 9.9736\n",
            "Epoch 14/30\n",
            "21/21 [==============================] - 13s 608ms/step - loss: 5.3186 - val_loss: 10.0465\n",
            "Epoch 15/30\n",
            "21/21 [==============================] - 13s 624ms/step - loss: 4.9118 - val_loss: 9.8245\n",
            "Epoch 16/30\n",
            "21/21 [==============================] - 13s 629ms/step - loss: 4.5706 - val_loss: 9.6013\n",
            "Epoch 17/30\n",
            "21/21 [==============================] - 13s 609ms/step - loss: 4.3304 - val_loss: 9.6951\n",
            "Epoch 18/30\n",
            "21/21 [==============================] - 13s 610ms/step - loss: 4.2349 - val_loss: 9.5336\n",
            "Epoch 19/30\n",
            "21/21 [==============================] - 13s 617ms/step - loss: 4.2297 - val_loss: 9.9498\n",
            "Epoch 20/30\n",
            "21/21 [==============================] - 13s 610ms/step - loss: 3.8291 - val_loss: 9.9607\n",
            "Epoch 21/30\n",
            "21/21 [==============================] - 13s 608ms/step - loss: 3.3593 - val_loss: 9.3293\n",
            "Epoch 22/30\n",
            "21/21 [==============================] - 13s 611ms/step - loss: 3.5279 - val_loss: 9.7676\n",
            "Epoch 23/30\n",
            "21/21 [==============================] - 13s 608ms/step - loss: 3.1305 - val_loss: 8.6406\n",
            "Epoch 24/30\n",
            "21/21 [==============================] - 13s 636ms/step - loss: 3.0017 - val_loss: 8.6086\n",
            "Epoch 25/30\n",
            "21/21 [==============================] - 13s 607ms/step - loss: 2.9783 - val_loss: 8.7244\n",
            "Epoch 26/30\n",
            "21/21 [==============================] - 13s 608ms/step - loss: 2.6673 - val_loss: 8.4785\n",
            "Epoch 27/30\n",
            "21/21 [==============================] - 13s 608ms/step - loss: 2.6367 - val_loss: 8.5681\n",
            "Epoch 28/30\n",
            "21/21 [==============================] - 13s 608ms/step - loss: 2.5209 - val_loss: 8.5413\n",
            "Epoch 29/30\n",
            "21/21 [==============================] - 13s 607ms/step - loss: 2.5679 - val_loss: 9.2979\n",
            "Epoch 30/30\n",
            "21/21 [==============================] - 13s 607ms/step - loss: 2.5886 - val_loss: 8.0015\n"
          ],
          "name": "stdout"
        }
      ]
    },
    {
      "cell_type": "code",
      "metadata": {
        "id": "A1U14UUoF4WD",
        "colab_type": "code",
        "colab": {}
      },
      "source": [
        "model.save_weights(str(drive_path/'weights'))"
      ],
      "execution_count": 0,
      "outputs": []
    },
    {
      "cell_type": "code",
      "metadata": {
        "id": "PSVSf_V-GX55",
        "colab_type": "code",
        "colab": {
          "base_uri": "https://localhost:8080/",
          "height": 34
        },
        "outputId": "7c38f95a-afd7-44c3-f797-348c230a2d8d"
      },
      "source": [
        "model.load_weights(str(drive_path/'weights'))"
      ],
      "execution_count": 7,
      "outputs": [
        {
          "output_type": "execute_result",
          "data": {
            "text/plain": [
              "<tensorflow.python.training.tracking.util.CheckpointLoadStatus at 0x7f17261bc550>"
            ]
          },
          "metadata": {
            "tags": []
          },
          "execution_count": 7
        }
      ]
    },
    {
      "cell_type": "code",
      "metadata": {
        "id": "pKLmz-qP6DNM",
        "colab_type": "code",
        "colab": {
          "base_uri": "https://localhost:8080/",
          "height": 164
        },
        "outputId": "db95b849-b972-459b-a5ce-fafc0be32f95"
      },
      "source": [
        "predictions = model.predict(X_valid, batch_size=8)"
      ],
      "execution_count": 8,
      "outputs": [
        {
          "output_type": "error",
          "ename": "NameError",
          "evalue": "ignored",
          "traceback": [
            "\u001b[0;31m---------------------------------------------------------------------------\u001b[0m",
            "\u001b[0;31mNameError\u001b[0m                                 Traceback (most recent call last)",
            "\u001b[0;32m<ipython-input-8-55f5065b8e8f>\u001b[0m in \u001b[0;36m<module>\u001b[0;34m()\u001b[0m\n\u001b[0;32m----> 1\u001b[0;31m \u001b[0mpredictions\u001b[0m \u001b[0;34m=\u001b[0m \u001b[0mmodel\u001b[0m\u001b[0;34m.\u001b[0m\u001b[0mpredict\u001b[0m\u001b[0;34m(\u001b[0m\u001b[0mX_valid\u001b[0m\u001b[0;34m,\u001b[0m \u001b[0mbatch_size\u001b[0m\u001b[0;34m=\u001b[0m\u001b[0;36m8\u001b[0m\u001b[0;34m)\u001b[0m\u001b[0;34m\u001b[0m\u001b[0;34m\u001b[0m\u001b[0m\n\u001b[0m",
            "\u001b[0;31mNameError\u001b[0m: name 'X_valid' is not defined"
          ]
        }
      ]
    },
    {
      "cell_type": "code",
      "metadata": {
        "id": "kSYd5R6JHbA1",
        "colab_type": "code",
        "colab": {}
      },
      "source": [
        ""
      ],
      "execution_count": 0,
      "outputs": []
    },
    {
      "cell_type": "code",
      "metadata": {
        "id": "dozpjDVON9Yy",
        "colab_type": "code",
        "colab": {}
      },
      "source": [
        "predictions[25]"
      ],
      "execution_count": 0,
      "outputs": []
    },
    {
      "cell_type": "code",
      "metadata": {
        "id": "bFOHb1D1N_sa",
        "colab_type": "code",
        "colab": {}
      },
      "source": [
        "cv2_imshow(X_valid[25] * 255)"
      ],
      "execution_count": 0,
      "outputs": []
    },
    {
      "cell_type": "code",
      "metadata": {
        "id": "2IlENx5rOGtj",
        "colab_type": "code",
        "colab": {}
      },
      "source": [
        "y_valid[25]"
      ],
      "execution_count": 0,
      "outputs": []
    },
    {
      "cell_type": "code",
      "metadata": {
        "id": "nkjFDwBydiAy",
        "colab_type": "code",
        "colab": {}
      },
      "source": [
        "original_test_images = []\n",
        "\n",
        "cap = VideoCapture(str(drive_path/'test.mp4'))\n",
        "i = 0\n",
        "while i < 10798:\n",
        "    ret_val, frame = cap.read()\n",
        "    frame = np.array(frame[210:210+66,208:-208,:]).astype('float32')\n",
        "    original_test_images.append(np.array(frame) / 255)\n",
        "    i = i + 1"
      ],
      "execution_count": 0,
      "outputs": []
    },
    {
      "cell_type": "code",
      "metadata": {
        "id": "H9D8P39gvxLG",
        "colab_type": "code",
        "colab": {}
      },
      "source": [
        "original_test_images = np.array(original_test_images)"
      ],
      "execution_count": 0,
      "outputs": []
    },
    {
      "cell_type": "code",
      "metadata": {
        "id": "dPz_o6exwB0-",
        "colab_type": "code",
        "colab": {
          "base_uri": "https://localhost:8080/",
          "height": 34
        },
        "outputId": "9b056add-2454-4add-9ec1-ad164ee79cb4"
      },
      "source": [
        "original_test_images.shape"
      ],
      "execution_count": 13,
      "outputs": [
        {
          "output_type": "execute_result",
          "data": {
            "text/plain": [
              "(10798, 66, 224, 3)"
            ]
          },
          "metadata": {
            "tags": []
          },
          "execution_count": 13
        }
      ]
    },
    {
      "cell_type": "code",
      "metadata": {
        "id": "5tATpcT2HD9D",
        "colab_type": "code",
        "colab": {}
      },
      "source": [
        "X, _ = chunk_video(original_test_images)"
      ],
      "execution_count": 0,
      "outputs": []
    },
    {
      "cell_type": "code",
      "metadata": {
        "id": "lPAH0i6QHW6z",
        "colab_type": "code",
        "colab": {}
      },
      "source": [
        "X = np.array(X)"
      ],
      "execution_count": 0,
      "outputs": []
    },
    {
      "cell_type": "code",
      "metadata": {
        "id": "YxEFfxQpHclN",
        "colab_type": "code",
        "colab": {
          "base_uri": "https://localhost:8080/",
          "height": 34
        },
        "outputId": "a78df28b-47a4-44ac-9c7b-b59506c25d9b"
      },
      "source": [
        "X.shape"
      ],
      "execution_count": 22,
      "outputs": [
        {
          "output_type": "execute_result",
          "data": {
            "text/plain": [
              "(107, 100, 66, 224, 3)"
            ]
          },
          "metadata": {
            "tags": []
          },
          "execution_count": 22
        }
      ]
    },
    {
      "cell_type": "code",
      "metadata": {
        "id": "tbsoEj1tHhyO",
        "colab_type": "code",
        "colab": {
          "base_uri": "https://localhost:8080/",
          "height": 34
        },
        "outputId": "8d7a37d0-0dc6-4a48-88a9-02dbab445fc4"
      },
      "source": [
        "original_test_images.shape"
      ],
      "execution_count": 23,
      "outputs": [
        {
          "output_type": "execute_result",
          "data": {
            "text/plain": [
              "(10798, 66, 224, 3)"
            ]
          },
          "metadata": {
            "tags": []
          },
          "execution_count": 23
        }
      ]
    },
    {
      "cell_type": "code",
      "metadata": {
        "id": "XhUABOW2pKyB",
        "colab_type": "code",
        "colab": {}
      },
      "source": [
        "predictions = model.predict(X, batch_size=8)"
      ],
      "execution_count": 0,
      "outputs": []
    },
    {
      "cell_type": "code",
      "metadata": {
        "id": "heyoQQVHvd0Z",
        "colab_type": "code",
        "colab": {}
      },
      "source": [
        "predictions = predictions.ravel()"
      ],
      "execution_count": 0,
      "outputs": []
    },
    {
      "cell_type": "code",
      "metadata": {
        "id": "MUj0aYhHH3po",
        "colab_type": "code",
        "colab": {}
      },
      "source": [
        "speed_overlayed_test_video = []"
      ],
      "execution_count": 0,
      "outputs": []
    },
    {
      "cell_type": "code",
      "metadata": {
        "id": "1E6v8CPcp8CL",
        "colab_type": "code",
        "colab": {}
      },
      "source": [
        "import cv2\n",
        "\n",
        "for i in range(0, len(predictions)):\n",
        "    original_test_images.append(cv2.putText(original_test_images[i] * 255, str(predictions[i]), (10,50), cv2.FONT_HERSHEY_SIMPLEX, 1, (0,255,17)))"
      ],
      "execution_count": 0,
      "outputs": []
    },
    {
      "cell_type": "code",
      "metadata": {
        "id": "ViuGOJgBfqdm",
        "colab_type": "code",
        "colab": {
          "base_uri": "https://localhost:8080/",
          "height": 34
        },
        "outputId": "0b4ff27b-cc4a-4611-c3ea-b028a06b18fc"
      },
      "source": [
        "original_test_images.shape"
      ],
      "execution_count": 46,
      "outputs": [
        {
          "output_type": "execute_result",
          "data": {
            "text/plain": [
              "(10798, 66, 224, 3)"
            ]
          },
          "metadata": {
            "tags": []
          },
          "execution_count": 46
        }
      ]
    },
    {
      "cell_type": "code",
      "metadata": {
        "id": "j3iJyKTHsEu_",
        "colab_type": "code",
        "colab": {}
      },
      "source": [
        "np.save(drive_path/'output.npy')"
      ],
      "execution_count": 0,
      "outputs": []
    },
    {
      "cell_type": "code",
      "metadata": {
        "id": "DQtI_r79dVqI",
        "colab_type": "code",
        "colab": {}
      },
      "source": [
        "from cv2 import VideoWriter, VideoWriter_fourcc\n",
        "out = VideoWriter(\"output.mp4\", VideoWriter_fourcc(*'mp4v'), 20, (224, 66), True)"
      ],
      "execution_count": 0,
      "outputs": []
    },
    {
      "cell_type": "code",
      "metadata": {
        "id": "ZnS6sBsKIMFK",
        "colab_type": "code",
        "colab": {}
      },
      "source": [
        "speed_overlayed_test_video = np.array(speed_overlayed_test_video).astype(np.uint8)"
      ],
      "execution_count": 0,
      "outputs": []
    },
    {
      "cell_type": "code",
      "metadata": {
        "id": "yugv_CeYxoLt",
        "colab_type": "code",
        "colab": {}
      },
      "source": [
        "original_test_images = original_test_images.astype('uint8')"
      ],
      "execution_count": 0,
      "outputs": []
    },
    {
      "cell_type": "code",
      "metadata": {
        "id": "ZY5IRp-eyjrG",
        "colab_type": "code",
        "colab": {
          "base_uri": "https://localhost:8080/",
          "height": 83
        },
        "outputId": "4c67a004-19ef-4d26-bd05-ec03a5d118a7"
      },
      "source": [
        "cv2_imshow(speed_overlayed_test_video[9])"
      ],
      "execution_count": 37,
      "outputs": [
        {
          "output_type": "display_data",
          "data": {
            "image/png": "[encoded data removed]",
            "text/plain": [
              "<PIL.Image.Image image mode=RGB size=224x66 at 0x7F160E63D198>"
            ]
          },
          "metadata": {
            "tags": []
          }
        }
      ]
    },
    {
      "cell_type": "code",
      "metadata": {
        "id": "INMcqbOsfvYD",
        "colab_type": "code",
        "colab": {}
      },
      "source": [
        "for i in range(len(speed_overlayed_test_video)):\n",
        "    out.write(speed_overlayed_test_video[i])\n",
        "out.release()"
      ],
      "execution_count": 0,
      "outputs": []
    },
    {
      "cell_type": "code",
      "metadata": {
        "id": "FlLswt_4pTlJ",
        "colab_type": "code",
        "colab": {}
      },
      "source": [
        "from google.colab import files\n",
        "files.download('output.mp4') "
      ],
      "execution_count": 0,
      "outputs": []
    },
    {
      "cell_type": "code",
      "metadata": {
        "id": "wuAnAAiE6Nsj",
        "colab_type": "code",
        "colab": {
          "base_uri": "https://localhost:8080/",
          "height": 327
        },
        "outputId": "a54aadfe-25b8-4ca6-e6d6-1e35fbde3934"
      },
      "source": [
        "!pip install -I scipy==1.2.*"
      ],
      "execution_count": 111,
      "outputs": [
        {
          "output_type": "stream",
          "text": [
            "Collecting scipy==1.2.*\n",
            "\u001b[?25l  Downloading https://files.pythonhosted.org/packages/c7/d6/661cf4fb32ecda40fc03685ef0995db3d3300c619f461751621f646ab3f6/scipy-1.2.3-cp36-cp36m-manylinux1_x86_64.whl (24.8MB)\n",
            "\u001b[K     |████████████████████████████████| 24.8MB 129kB/s \n",
            "\u001b[?25hCollecting numpy>=1.8.2\n",
            "\u001b[?25l  Downloading https://files.pythonhosted.org/packages/03/27/e35e7c6e6a52fab9fcc64fc2b20c6b516eba930bb02b10ace3b38200d3ab/numpy-1.18.4-cp36-cp36m-manylinux1_x86_64.whl (20.2MB)\n",
            "\u001b[K     |████████████████████████████████| 20.2MB 176kB/s \n",
            "\u001b[31mERROR: umap-learn 0.4.2 has requirement scipy>=1.3.1, but you'll have scipy 1.2.3 which is incompatible.\u001b[0m\n",
            "\u001b[31mERROR: tensorflow 2.2.0rc4 has requirement scipy==1.4.1; python_version >= \"3\", but you'll have scipy 1.2.3 which is incompatible.\u001b[0m\n",
            "\u001b[31mERROR: datascience 0.10.6 has requirement folium==0.2.1, but you'll have folium 0.8.3 which is incompatible.\u001b[0m\n",
            "\u001b[31mERROR: albumentations 0.1.12 has requirement imgaug<0.2.7,>=0.2.5, but you'll have imgaug 0.2.9 which is incompatible.\u001b[0m\n",
            "\u001b[?25hInstalling collected packages: numpy, scipy\n",
            "Successfully installed numpy-1.18.4 scipy-1.4.1\n"
          ],
          "name": "stdout"
        },
        {
          "output_type": "display_data",
          "data": {
            "application/vnd.colab-display-data+json": {
              "pip_warning": {
                "packages": [
                  "numpy",
                  "scipy"
                ]
              }
            }
          },
          "metadata": {
            "tags": []
          }
        }
      ]
    },
    {
      "cell_type": "code",
      "metadata": {
        "id": "LENnZaje1ydl",
        "colab_type": "code",
        "colab": {
          "base_uri": "https://localhost:8080/",
          "height": 443
        },
        "outputId": "20bec647-a8d3-4856-d253-a3d57c33cc5b"
      },
      "source": [
        "from vis.visualization import visualize_saliency"
      ],
      "execution_count": 112,
      "outputs": [
        {
          "output_type": "error",
          "ename": "ImportError",
          "evalue": "ignored",
          "traceback": [
            "\u001b[0;31m---------------------------------------------------------------------------\u001b[0m",
            "\u001b[0;31mImportError\u001b[0m                               Traceback (most recent call last)",
            "\u001b[0;32m<ipython-input-112-369c19840a7a>\u001b[0m in \u001b[0;36m<module>\u001b[0;34m()\u001b[0m\n\u001b[0;32m----> 1\u001b[0;31m \u001b[0;32mfrom\u001b[0m \u001b[0mvis\u001b[0m\u001b[0;34m.\u001b[0m\u001b[0mvisualization\u001b[0m \u001b[0;32mimport\u001b[0m \u001b[0mvisualize_saliency\u001b[0m\u001b[0;34m\u001b[0m\u001b[0;34m\u001b[0m\u001b[0m\n\u001b[0m",
            "\u001b[0;32m/usr/local/lib/python3.6/dist-packages/vis/visualization/__init__.py\u001b[0m in \u001b[0;36m<module>\u001b[0;34m()\u001b[0m\n\u001b[1;32m      5\u001b[0m \u001b[0;32mfrom\u001b[0m \u001b[0;34m.\u001b[0m\u001b[0mactivation_maximization\u001b[0m \u001b[0;32mimport\u001b[0m \u001b[0mvisualize_activation\u001b[0m\u001b[0;34m\u001b[0m\u001b[0;34m\u001b[0m\u001b[0m\n\u001b[1;32m      6\u001b[0m \u001b[0;34m\u001b[0m\u001b[0m\n\u001b[0;32m----> 7\u001b[0;31m \u001b[0;32mfrom\u001b[0m \u001b[0;34m.\u001b[0m\u001b[0msaliency\u001b[0m \u001b[0;32mimport\u001b[0m \u001b[0mvisualize_saliency_with_losses\u001b[0m\u001b[0;34m\u001b[0m\u001b[0;34m\u001b[0m\u001b[0m\n\u001b[0m\u001b[1;32m      8\u001b[0m \u001b[0;32mfrom\u001b[0m \u001b[0;34m.\u001b[0m\u001b[0msaliency\u001b[0m \u001b[0;32mimport\u001b[0m \u001b[0mvisualize_saliency\u001b[0m\u001b[0;34m\u001b[0m\u001b[0;34m\u001b[0m\u001b[0m\n\u001b[1;32m      9\u001b[0m \u001b[0;32mfrom\u001b[0m \u001b[0;34m.\u001b[0m\u001b[0msaliency\u001b[0m \u001b[0;32mimport\u001b[0m \u001b[0mvisualize_cam_with_losses\u001b[0m\u001b[0;34m\u001b[0m\u001b[0;34m\u001b[0m\u001b[0m\n",
            "\u001b[0;32m/usr/local/lib/python3.6/dist-packages/vis/visualization/saliency.py\u001b[0m in \u001b[0;36m<module>\u001b[0;34m()\u001b[0m\n\u001b[1;32m      3\u001b[0m \u001b[0;32mimport\u001b[0m \u001b[0mnumpy\u001b[0m \u001b[0;32mas\u001b[0m \u001b[0mnp\u001b[0m\u001b[0;34m\u001b[0m\u001b[0;34m\u001b[0m\u001b[0m\n\u001b[1;32m      4\u001b[0m \u001b[0;32mimport\u001b[0m \u001b[0mmatplotlib\u001b[0m\u001b[0;34m.\u001b[0m\u001b[0mcm\u001b[0m \u001b[0;32mas\u001b[0m \u001b[0mcm\u001b[0m\u001b[0;34m\u001b[0m\u001b[0;34m\u001b[0m\u001b[0m\n\u001b[0;32m----> 5\u001b[0;31m \u001b[0;32mfrom\u001b[0m \u001b[0mscipy\u001b[0m\u001b[0;34m.\u001b[0m\u001b[0mmisc\u001b[0m \u001b[0;32mimport\u001b[0m \u001b[0mimresize\u001b[0m\u001b[0;34m\u001b[0m\u001b[0;34m\u001b[0m\u001b[0m\n\u001b[0m\u001b[1;32m      6\u001b[0m \u001b[0;34m\u001b[0m\u001b[0m\n\u001b[1;32m      7\u001b[0m \u001b[0;32mfrom\u001b[0m \u001b[0mkeras\u001b[0m\u001b[0;34m.\u001b[0m\u001b[0mlayers\u001b[0m\u001b[0;34m.\u001b[0m\u001b[0mconvolutional\u001b[0m \u001b[0;32mimport\u001b[0m \u001b[0m_Conv\u001b[0m\u001b[0;34m\u001b[0m\u001b[0;34m\u001b[0m\u001b[0m\n",
            "\u001b[0;31mImportError\u001b[0m: cannot import name 'imresize'",
            "",
            "\u001b[0;31m---------------------------------------------------------------------------\u001b[0;32m\nNOTE: If your import is failing due to a missing package, you can\nmanually install dependencies using either !pip or !apt.\n\nTo view examples of installing some common dependencies, click the\n\"Open Examples\" button below.\n\u001b[0;31m---------------------------------------------------------------------------\u001b[0m\n"
          ]
        }
      ]
    },
    {
      "cell_type": "code",
      "metadata": {
        "id": "16wBvh3_6BwO",
        "colab_type": "code",
        "colab": {}
      },
      "source": [
        ""
      ],
      "execution_count": 0,
      "outputs": []
    }
  ]
}