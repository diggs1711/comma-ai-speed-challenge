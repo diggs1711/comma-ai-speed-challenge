{
  "nbformat": 4,
  "nbformat_minor": 0,
  "metadata": {
    "colab": {
      "name": "speed_challenge.ipynb",
      "provenance": [],
      "collapsed_sections": [],
      "machine_shape": "hm",
      "authorship_tag": "ABX9TyNIoAr5H49Oj+kpLT9d7cBF",
      "include_colab_link": true
    },
    "kernelspec": {
      "name": "python3",
      "display_name": "Python 3"
    },
    "accelerator": "GPU"
  },
  "cells": [
    {
      "cell_type": "markdown",
      "metadata": {
        "id": "view-in-github",
        "colab_type": "text"
      },
      "source": [
        "<a href=\"https://colab.research.google.com/github/diggs1711/comma-ai-speed-challenge/blob/master/speed_challenge.ipynb\" target=\"_parent\"><img src=\"https://colab.research.google.com/assets/colab-badge.svg\" alt=\"Open In Colab\"/></a>"
      ]
    },
    {
      "cell_type": "code",
      "metadata": {
        "id": "XwCp3FVfM4Au",
        "colab_type": "code",
        "outputId": "0597b95d-8635-4eb9-acb8-1dad042233d2",
        "colab": {
          "base_uri": "https://localhost:8080/",
          "height": 122
        }
      },
      "source": [
        "%matplotlib inline\n",
        "from cv2 import VideoCapture\n",
        "from google.colab.patches import cv2_imshow\n",
        "import numpy as np\n",
        "import pandas as pd\n",
        "import gc\n",
        "import math\n",
        "\n",
        "from google.colab import drive\n",
        "drive.mount('/content/drive')"
      ],
      "execution_count": 1,
      "outputs": [
        {
          "output_type": "stream",
          "text": [
            "Go to this URL in a browser: https://accounts.google.com/o/oauth2/auth?client_id=947318989803-6bn6qk8qdgf4n4g3pfee6491hc0brc4i.apps.googleusercontent.com&redirect_uri=urn%3aietf%3awg%3aoauth%3a2.0%3aoob&response_type=code&scope=email%20https%3a%2f%2fwww.googleapis.com%2fauth%2fdocs.test%20https%3a%2f%2fwww.googleapis.com%2fauth%2fdrive%20https%3a%2f%2fwww.googleapis.com%2fauth%2fdrive.photos.readonly%20https%3a%2f%2fwww.googleapis.com%2fauth%2fpeopleapi.readonly\n",
            "\n",
            "Enter your authorization code:\n",
            "··········\n",
            "Mounted at /content/drive\n"
          ],
          "name": "stdout"
        }
      ]
    },
    {
      "cell_type": "code",
      "metadata": {
        "id": "LUrpshliPZUp",
        "colab_type": "code",
        "colab": {}
      },
      "source": [
        "from pathlib import Path\n",
        "drive_path = Path('/content/drive/My Drive/comma_ai_speed_challenge/speedchallenge-master/data/')"
      ],
      "execution_count": 0,
      "outputs": []
    },
    {
      "cell_type": "code",
      "metadata": {
        "id": "4TPxE9HBNmVc",
        "colab_type": "code",
        "colab": {}
      },
      "source": [
        "train_vals = np.array(pd.read_fwf(drive_path/'train.txt', header=None))"
      ],
      "execution_count": 0,
      "outputs": []
    },
    {
      "cell_type": "code",
      "metadata": {
        "id": "hDnl-8TSu9sO",
        "colab_type": "code",
        "outputId": "0ff39729-fa23-435a-a851-ae529fad6356",
        "colab": {
          "base_uri": "https://localhost:8080/",
          "height": 289
        }
      },
      "source": [
        "print(f\"mean {train_vals.mean()}\")\n",
        "print(f\"max {train_vals.max()}\")\n",
        "print(f\"std {train_vals.std()}\")\n",
        "print(f\"min {train_vals.min()}\")\n",
        "\n",
        "idx = int(len(train_vals) / 2)\n",
        "print()\n",
        "print(\"*** First half of video ****\")\n",
        "first_half = train_vals[:idx]\n",
        "print(f\"mean 1st {first_half.mean()}\")\n",
        "print(f\"max 1st {first_half.max()}\")\n",
        "print(f\"std 1st {first_half.std()}\")\n",
        "print(f\"min 1st {first_half.min()}\")\n",
        "\n",
        "print()\n",
        "print(\"*** Second half of video ****\")\n",
        "second_half = train_vals[idx:]\n",
        "print(f\"mean 2nd {second_half.mean()}\")\n",
        "print(f\"max 2nd {second_half.max()}\")\n",
        "print(f\"std 2nd {second_half.std()}\")\n",
        "print(f\"min 2nd {second_half.min()}\")"
      ],
      "execution_count": 6,
      "outputs": [
        {
          "output_type": "stream",
          "text": [
            "mean 12.183181660441177\n",
            "max 28.130404\n",
            "std 8.206561706745727\n",
            "min 0.0\n",
            "\n",
            "*** First half of video ****\n",
            "mean 1st 18.66717958362745\n",
            "max 1st 28.130404\n",
            "std 1st 5.883530076403356\n",
            "min 1st 0.0\n",
            "\n",
            "*** Second half of video ****\n",
            "mean 2nd 5.699183737254902\n",
            "max 2nd 14.890168\n",
            "std 2nd 3.9993656743963695\n",
            "min 2nd 0.0\n"
          ],
          "name": "stdout"
        }
      ]
    },
    {
      "cell_type": "code",
      "metadata": {
        "id": "ngHfnZosUbw8",
        "colab_type": "code",
        "colab": {}
      },
      "source": [
        "numberOfFrame = 20400\n",
        "fps = 20\n",
        "cropped_image_height = 100\n",
        "cropped_image_width = 440"
      ],
      "execution_count": 0,
      "outputs": []
    },
    {
      "cell_type": "code",
      "metadata": {
        "id": "9P8sBQLXON8f",
        "colab_type": "code",
        "colab": {}
      },
      "source": [
        "# load video frame by frame\n",
        "# cap = VideoCapture(str(drive_path/'train.mp4'))\n",
        "# i = 0\n",
        "# video_frames = []\n",
        "\n",
        "# while i < numberOfFrame:\n",
        "#   ret_val, frame = cap.read()\n",
        "#   cropped_image = frame[200:200+cropped_image_height,100:100+cropped_image_width, 2]\n",
        "#   video_frames.append(np.array(cropped_image))\n",
        "#   i = i + 1\n",
        "\n",
        "# cap.release()"
      ],
      "execution_count": 0,
      "outputs": []
    },
    {
      "cell_type": "code",
      "metadata": {
        "id": "7U3qHXWL5WRW",
        "colab_type": "code",
        "colab": {}
      },
      "source": [
        "# video_frames = np.array(video_frames)"
      ],
      "execution_count": 0,
      "outputs": []
    },
    {
      "cell_type": "code",
      "metadata": {
        "id": "8EuCZWt290jG",
        "colab_type": "code",
        "colab": {}
      },
      "source": [
        "# np.save(str(drive_path/'video_frames'), video_frames)"
      ],
      "execution_count": 0,
      "outputs": []
    },
    {
      "cell_type": "code",
      "metadata": {
        "id": "_aH9pkXs9_Yf",
        "colab_type": "code",
        "colab": {}
      },
      "source": [
        "video_frames = np.load(str(drive_path/'video_frames.npy')) / 255"
      ],
      "execution_count": 0,
      "outputs": []
    },
    {
      "cell_type": "code",
      "metadata": {
        "id": "GA5KKAts-iAd",
        "colab_type": "code",
        "colab": {}
      },
      "source": [
        "rand_idxs = np.random.choice(len(video_frames), 15000)"
      ],
      "execution_count": 0,
      "outputs": []
    },
    {
      "cell_type": "code",
      "metadata": {
        "id": "6ctSGqXQezCR",
        "colab_type": "code",
        "colab": {}
      },
      "source": [
        "rand_idxs = np.sort(rand_idxs)"
      ],
      "execution_count": 0,
      "outputs": []
    },
    {
      "cell_type": "code",
      "metadata": {
        "id": "E7CdM2ZK-lV_",
        "colab_type": "code",
        "outputId": "531ea951-0e52-4b0c-cfd1-4589042daddb",
        "colab": {
          "base_uri": "https://localhost:8080/",
          "height": 117
        }
      },
      "source": [
        "cv2_imshow(video_frames[rand_idxs[500],:,:])"
      ],
      "execution_count": 54,
      "outputs": [
        {
          "output_type": "display_data",
          "data": {
            "image/png": "[encoded data removed]",
            "text/plain": [
              "<PIL.Image.Image image mode=L size=440x100 at 0x7FA40C43CE48>"
            ]
          },
          "metadata": {
            "tags": []
          }
        }
      ]
    },
    {
      "cell_type": "code",
      "metadata": {
        "id": "C2b72Ra4fP-o",
        "colab_type": "code",
        "colab": {}
      },
      "source": [
        "random_frames = video_frames\n",
        "random_train_vals = train_vals"
      ],
      "execution_count": 0,
      "outputs": []
    },
    {
      "cell_type": "code",
      "metadata": {
        "id": "RV7WpSgk2zql",
        "colab_type": "code",
        "colab": {}
      },
      "source": [
        "# create train and validation sets\n",
        "valid_idx =  15000\n",
        "X_train = random_frames[:valid_idx]\n",
        "y_train = random_train_vals[:valid_idx]\n",
        "\n",
        "X_valid = random_frames[valid_idx:]\n",
        "y_valid = random_train_vals[valid_idx:]"
      ],
      "execution_count": 0,
      "outputs": []
    },
    {
      "cell_type": "code",
      "metadata": {
        "id": "OMZUoE62WodP",
        "colab_type": "code",
        "outputId": "43b90d49-5549-42c7-879d-ffced3fd628f",
        "colab": {
          "base_uri": "https://localhost:8080/",
          "height": 34
        }
      },
      "source": [
        "del video_frames, train_vals;\n",
        "gc.collect()"
      ],
      "execution_count": 12,
      "outputs": [
        {
          "output_type": "execute_result",
          "data": {
            "text/plain": [
              "138"
            ]
          },
          "metadata": {
            "tags": []
          },
          "execution_count": 12
        }
      ]
    },
    {
      "cell_type": "code",
      "metadata": {
        "id": "kG-ClkPhFZhi",
        "colab_type": "code",
        "colab": {}
      },
      "source": [
        "X_train = X_train[..., np.newaxis]\n",
        "y_train = y_train\n",
        "\n",
        "X_valid = X_valid[..., np.newaxis]\n",
        "y_valid = y_valid"
      ],
      "execution_count": 0,
      "outputs": []
    },
    {
      "cell_type": "code",
      "metadata": {
        "id": "zZ7MZachSZr7",
        "colab_type": "code",
        "outputId": "8aca2327-c925-416a-dd3b-42f68aca5877",
        "colab": {
          "base_uri": "https://localhost:8080/",
          "height": 136
        }
      },
      "source": [
        "y_train"
      ],
      "execution_count": 53,
      "outputs": [
        {
          "output_type": "execute_result",
          "data": {
            "text/plain": [
              "array([[28.105569],\n",
              "       [28.105569],\n",
              "       [28.106527],\n",
              "       ...,\n",
              "       [13.80486 ],\n",
              "       [13.793924],\n",
              "       [13.840622]])"
            ]
          },
          "metadata": {
            "tags": []
          },
          "execution_count": 53
        }
      ]
    },
    {
      "cell_type": "code",
      "metadata": {
        "id": "06XmgWdRLQRT",
        "colab_type": "code",
        "outputId": "d578b0f3-5ea0-4ab9-a9ed-f5b8354ad03b",
        "colab": {
          "base_uri": "https://localhost:8080/",
          "height": 34
        }
      },
      "source": [
        "y_train.shape"
      ],
      "execution_count": 54,
      "outputs": [
        {
          "output_type": "execute_result",
          "data": {
            "text/plain": [
              "(15000, 1)"
            ]
          },
          "metadata": {
            "tags": []
          },
          "execution_count": 54
        }
      ]
    },
    {
      "cell_type": "code",
      "metadata": {
        "id": "WoQ0Nff63EI-",
        "colab_type": "code",
        "colab": {}
      },
      "source": [
        "from keras.layers import Dense, Flatten, BatchNormalization, Conv2D, Dropout, MaxPooling2D, GlobalAveragePooling2D, GlobalMaxPooling2D, concatenate, Reshape\n",
        "from keras.models import Sequential\n",
        "from keras import Model, Input\n",
        "import keras\n",
        "\n",
        "def build_model():\n",
        "  img_input = Input(shape=(cropped_image_height, cropped_image_width, 1))\n",
        "\n",
        "  x = Conv2D(32, 3, activation='relu')(img_input)\n",
        "  x = BatchNormalization()(x)\n",
        "\n",
        "  x = Conv2D(32, 3, activation='relu')(x)\n",
        "  x = BatchNormalization()(x)\n",
        "\n",
        "  x = Conv2D(64, 3, activation='relu')(x)\n",
        "  x = BatchNormalization()(x)\n",
        "\n",
        "  x = Conv2D(64, 3, activation='relu')(x)\n",
        "  x = BatchNormalization()(x)\n",
        "\n",
        "  x = Conv2D(128, 3, activation='relu')(x)\n",
        "  x = BatchNormalization()(x)\n",
        "\n",
        "  x = Conv2D(128, 3, activation='relu')(x)\n",
        "  x = BatchNormalization()(x)\n",
        "\n",
        "  x = GlobalMaxPooling2D()(x)\n",
        "  x = Dropout(0.5)(x)\n",
        "  \n",
        "  x = Dense(100, activation='relu')(x)\n",
        "  x = BatchNormalization()(x)\n",
        "  \n",
        "\n",
        "  x = Dense(1, activation='relu')(x)\n",
        "\n",
        "  mod = Model(inputs=[img_input], outputs=x)\n",
        "  mod.compile('adam', 'mse')\n",
        "  return mod\n",
        "\n",
        "# model = build_model()"
      ],
      "execution_count": 0,
      "outputs": []
    },
    {
      "cell_type": "code",
      "metadata": {
        "id": "p5HqXsh1YQXw",
        "colab_type": "code",
        "colab": {}
      },
      "source": [
        "model = build_model()"
      ],
      "execution_count": 0,
      "outputs": []
    },
    {
      "cell_type": "code",
      "metadata": {
        "id": "AurdcdBpjXbS",
        "colab_type": "code",
        "colab": {
          "base_uri": "https://localhost:8080/",
          "height": 663
        },
        "outputId": "de1b6bce-00ce-475c-bcd5-b80b7ace3b91"
      },
      "source": [
        "model.summary()"
      ],
      "execution_count": 71,
      "outputs": [
        {
          "output_type": "stream",
          "text": [
            "Model: \"model_6\"\n",
            "_________________________________________________________________\n",
            "Layer (type)                 Output Shape              Param #   \n",
            "=================================================================\n",
            "input_7 (InputLayer)         (None, 100, 440, 1)       0         \n",
            "_________________________________________________________________\n",
            "conv2d_14 (Conv2D)           (None, 98, 438, 32)       320       \n",
            "_________________________________________________________________\n",
            "batch_normalization_17 (Batc (None, 98, 438, 32)       128       \n",
            "_________________________________________________________________\n",
            "conv2d_15 (Conv2D)           (None, 96, 436, 32)       9248      \n",
            "_________________________________________________________________\n",
            "batch_normalization_18 (Batc (None, 96, 436, 32)       128       \n",
            "_________________________________________________________________\n",
            "conv2d_16 (Conv2D)           (None, 94, 434, 64)       18496     \n",
            "_________________________________________________________________\n",
            "batch_normalization_19 (Batc (None, 94, 434, 64)       256       \n",
            "_________________________________________________________________\n",
            "conv2d_17 (Conv2D)           (None, 92, 432, 64)       36928     \n",
            "_________________________________________________________________\n",
            "batch_normalization_20 (Batc (None, 92, 432, 64)       256       \n",
            "_________________________________________________________________\n",
            "conv2d_18 (Conv2D)           (None, 90, 430, 128)      73856     \n",
            "_________________________________________________________________\n",
            "batch_normalization_21 (Batc (None, 90, 430, 128)      512       \n",
            "_________________________________________________________________\n",
            "global_max_pooling2d_6 (Glob (None, 128)               0         \n",
            "_________________________________________________________________\n",
            "dense_11 (Dense)             (None, 20)                2580      \n",
            "_________________________________________________________________\n",
            "batch_normalization_22 (Batc (None, 20)                80        \n",
            "_________________________________________________________________\n",
            "dense_12 (Dense)             (None, 1)                 21        \n",
            "=================================================================\n",
            "Total params: 142,809\n",
            "Trainable params: 142,129\n",
            "Non-trainable params: 680\n",
            "_________________________________________________________________\n"
          ],
          "name": "stdout"
        }
      ]
    },
    {
      "cell_type": "code",
      "metadata": {
        "id": "7pW5X8mCJsD-",
        "colab_type": "code",
        "outputId": "b30ac82b-4912-46bb-fcad-bf070496fe9e",
        "colab": {
          "base_uri": "https://localhost:8080/",
          "height": 391
        }
      },
      "source": [
        "history = model.fit(\n",
        "    X_train,\n",
        "    y_train, \n",
        "    epochs=10,\n",
        "    batch_size=32,\n",
        "    validation_data=(X_valid, y_valid))"
      ],
      "execution_count": 72,
      "outputs": [
        {
          "output_type": "stream",
          "text": [
            "Train on 15000 samples, validate on 5400 samples\n",
            "Epoch 1/10\n",
            "15000/15000 [==============================] - 201s 13ms/step - loss: 116.2892 - val_loss: 123.1729\n",
            "Epoch 2/10\n",
            "15000/15000 [==============================] - 199s 13ms/step - loss: 14.8268 - val_loss: 61.7413\n",
            "Epoch 3/10\n",
            "15000/15000 [==============================] - 199s 13ms/step - loss: 4.6695 - val_loss: 43.4116\n",
            "Epoch 4/10\n",
            "15000/15000 [==============================] - 199s 13ms/step - loss: 3.4884 - val_loss: 70.3547\n",
            "Epoch 5/10\n",
            "15000/15000 [==============================] - 200s 13ms/step - loss: 2.6113 - val_loss: 70.8081\n",
            "Epoch 6/10\n",
            "15000/15000 [==============================] - 200s 13ms/step - loss: 2.7293 - val_loss: 60.3324\n",
            "Epoch 7/10\n",
            "15000/15000 [==============================] - 200s 13ms/step - loss: 2.7038 - val_loss: 62.8945\n",
            "Epoch 8/10\n",
            "15000/15000 [==============================] - 200s 13ms/step - loss: 2.4725 - val_loss: 81.8869\n",
            "Epoch 9/10\n",
            "15000/15000 [==============================] - 200s 13ms/step - loss: 2.6327 - val_loss: 35.2090\n",
            "Epoch 10/10\n",
            "15000/15000 [==============================] - 199s 13ms/step - loss: 2.4996 - val_loss: 66.0734\n"
          ],
          "name": "stdout"
        },
        {
          "output_type": "execute_result",
          "data": {
            "text/plain": [
              "<keras.callbacks.callbacks.History at 0x7fbd7cd32fd0>"
            ]
          },
          "metadata": {
            "tags": []
          },
          "execution_count": 72
        }
      ]
    },
    {
      "cell_type": "code",
      "metadata": {
        "id": "iOsEVrQaKfkp",
        "colab_type": "code",
        "colab": {}
      },
      "source": [
        "def load_video_and_save_to_drive(filename, numberOfFrames):\n",
        "  # load video frame by frame\n",
        "  cap = VideoCapture(str(drive_path/filename))\n",
        "  i = 0\n",
        "  video_frames = []\n",
        "\n",
        "  while i < numberOfFrames:\n",
        "    ret_val, frame = cap.read()\n",
        "    cropped_image = frame[200:200+cropped_image_height,100:100+cropped_image_width, 2]\n",
        "    video_frames.append(np.array(cropped_image))\n",
        "    i = i + 1\n",
        "\n",
        "  print(\"processed finished\")\n",
        "  video_frames = np.array(video_frames)\n",
        "  print(\"Saving...\")\n",
        "  np.save(str(drive_path/f'frames-{filename}'), video_frames)\n",
        "  cap.release()"
      ],
      "execution_count": 0,
      "outputs": []
    },
    {
      "cell_type": "code",
      "metadata": {
        "id": "VVwcraLgn9iU",
        "colab_type": "code",
        "colab": {
          "base_uri": "https://localhost:8080/",
          "height": 51
        },
        "outputId": "968f7e6a-591f-46c0-c89b-b0958fb10755"
      },
      "source": [
        "load_video_and_save_to_drive('test.mp4', 10798)"
      ],
      "execution_count": 116,
      "outputs": [
        {
          "output_type": "stream",
          "text": [
            "processed finished\n",
            "Saving...\n"
          ],
          "name": "stdout"
        }
      ]
    },
    {
      "cell_type": "code",
      "metadata": {
        "id": "-m4EOu8foCLZ",
        "colab_type": "code",
        "colab": {}
      },
      "source": [
        "test_video_frames = np.load(str(drive_path/'frames-test.mp4.npy'))"
      ],
      "execution_count": 0,
      "outputs": []
    },
    {
      "cell_type": "code",
      "metadata": {
        "id": "jncRkaN3pJr9",
        "colab_type": "code",
        "colab": {
          "base_uri": "https://localhost:8080/",
          "height": 34
        },
        "outputId": "e16336ac-e639-4251-fe00-f681b1c8e80c"
      },
      "source": [
        "test_video_frames.shape"
      ],
      "execution_count": 73,
      "outputs": [
        {
          "output_type": "execute_result",
          "data": {
            "text/plain": [
              "(10798, 100, 440, 1)"
            ]
          },
          "metadata": {
            "tags": []
          },
          "execution_count": 73
        }
      ]
    },
    {
      "cell_type": "code",
      "metadata": {
        "id": "xiRYX_QUphxi",
        "colab_type": "code",
        "colab": {}
      },
      "source": [
        "test_video_frames = test_video_frames[..., np.newaxis] / 255"
      ],
      "execution_count": 0,
      "outputs": []
    },
    {
      "cell_type": "code",
      "metadata": {
        "id": "XhUABOW2pKyB",
        "colab_type": "code",
        "colab": {}
      },
      "source": [
        "predictions = model.predict(test_video_frames)"
      ],
      "execution_count": 0,
      "outputs": []
    },
    {
      "cell_type": "code",
      "metadata": {
        "id": "f7Go2GzOrxP3",
        "colab_type": "code",
        "colab": {
          "base_uri": "https://localhost:8080/",
          "height": 136
        },
        "outputId": "2fe2b697-1e76-4210-e30c-cfdfb7061122"
      },
      "source": [
        "predictions"
      ],
      "execution_count": 81,
      "outputs": [
        {
          "output_type": "execute_result",
          "data": {
            "text/plain": [
              "array([[17.770994],\n",
              "       [18.333986],\n",
              "       [19.05152 ],\n",
              "       ...,\n",
              "       [14.621207],\n",
              "       [14.47956 ],\n",
              "       [14.278064]], dtype=float32)"
            ]
          },
          "metadata": {
            "tags": []
          },
          "execution_count": 81
        }
      ]
    },
    {
      "cell_type": "code",
      "metadata": {
        "id": "57egu0icFcEg",
        "colab_type": "code",
        "colab": {
          "base_uri": "https://localhost:8080/",
          "height": 34
        },
        "outputId": "87ad4975-bd13-44c8-d607-1ea404819af7"
      },
      "source": [
        "train_vals.min()"
      ],
      "execution_count": 82,
      "outputs": [
        {
          "output_type": "execute_result",
          "data": {
            "text/plain": [
              "0.0"
            ]
          },
          "metadata": {
            "tags": []
          },
          "execution_count": 82
        }
      ]
    },
    {
      "cell_type": "code",
      "metadata": {
        "id": "dcALUsFepQnJ",
        "colab_type": "code",
        "colab": {
          "base_uri": "https://localhost:8080/",
          "height": 34
        },
        "outputId": "da4681a4-633f-4b32-d6f9-ff9c37c33967"
      },
      "source": [
        "predictions.min()"
      ],
      "execution_count": 83,
      "outputs": [
        {
          "output_type": "execute_result",
          "data": {
            "text/plain": [
              "3.986187"
            ]
          },
          "metadata": {
            "tags": []
          },
          "execution_count": 83
        }
      ]
    },
    {
      "cell_type": "code",
      "metadata": {
        "id": "1Vw5akhSppVF",
        "colab_type": "code",
        "colab": {
          "base_uri": "https://localhost:8080/",
          "height": 34
        },
        "outputId": "82f019c3-861c-48b7-b02e-c1673dc65486"
      },
      "source": [
        "predictions.max()"
      ],
      "execution_count": 84,
      "outputs": [
        {
          "output_type": "execute_result",
          "data": {
            "text/plain": [
              "25.80058"
            ]
          },
          "metadata": {
            "tags": []
          },
          "execution_count": 84
        }
      ]
    },
    {
      "cell_type": "code",
      "metadata": {
        "id": "xL9uOBCHp5t1",
        "colab_type": "code",
        "colab": {
          "base_uri": "https://localhost:8080/",
          "height": 34
        },
        "outputId": "8387ad0f-d6e0-4204-8a02-29a61b725cb2"
      },
      "source": [
        "predictions.mean()"
      ],
      "execution_count": 79,
      "outputs": [
        {
          "output_type": "execute_result",
          "data": {
            "text/plain": [
              "14.727596"
            ]
          },
          "metadata": {
            "tags": []
          },
          "execution_count": 79
        }
      ]
    },
    {
      "cell_type": "code",
      "metadata": {
        "id": "1E6v8CPcp8CL",
        "colab_type": "code",
        "colab": {}
      },
      "source": [
        ""
      ],
      "execution_count": 0,
      "outputs": []
    }
  ]
}